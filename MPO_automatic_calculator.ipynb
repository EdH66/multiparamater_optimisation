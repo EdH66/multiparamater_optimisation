{
  "nbformat": 4,
  "nbformat_minor": 0,
  "metadata": {
    "colab": {
      "provenance": [],
      "collapsed_sections": [
        "yQk1ZZsEvH8I",
        "uDL9WlphvLlk",
        "wuqrlzKqvRz5",
        "dV6JzMV5vWWO",
        "8RXAk-GJ5gTM"
      ],
      "authorship_tag": "ABX9TyP8I4JxUAhzOb6Nvprny/V0",
      "include_colab_link": true
    },
    "kernelspec": {
      "name": "python3",
      "display_name": "Python 3"
    },
    "language_info": {
      "name": "python"
    }
  },
  "cells": [
    {
      "cell_type": "markdown",
      "metadata": {
        "id": "view-in-github",
        "colab_type": "text"
      },
      "source": [
        "<a href=\"https://colab.research.google.com/github/EdH66/CMAP-Analysis/blob/main/MPO_automatic_calculator.ipynb\" target=\"_parent\"><img src=\"https://colab.research.google.com/assets/colab-badge.svg\" alt=\"Open In Colab\"/></a>"
      ]
    },
    {
      "cell_type": "markdown",
      "source": [
        "#Multiparameter optimisation (MPO) calculator"
      ],
      "metadata": {
        "id": "BnQvkYfIuzxE"
      }
    },
    {
      "cell_type": "markdown",
      "source": [
        "*  Chembl_P2_Cp_6K_curated.csv - Run this script to generate MPO values for unknown properties.\n",
        "*  MPO_validationset.csv - This data is used to confirm the proceudre is accruate\n",
        "*  df_6k_curated_withMPO.csv - generated from the Chembl file with MPO valeus appended\n",
        "\n",
        "\n"
      ],
      "metadata": {
        "id": "0_e_F_TqTD8-"
      }
    },
    {
      "cell_type": "code",
      "execution_count": 31,
      "metadata": {
        "colab": {
          "base_uri": "https://localhost:8080/"
        },
        "id": "q0pvxj1wuh4B",
        "outputId": "ea5aad62-c68d-4c04-aab3-b4e8923636b2"
      },
      "outputs": [
        {
          "output_type": "stream",
          "name": "stdout",
          "text": [
            "Drive already mounted at /content/drive; to attempt to forcibly remount, call drive.mount(\"/content/drive\", force_remount=True).\n"
          ]
        }
      ],
      "source": [
        "from google.colab import drive\n",
        "drive.mount('/content/drive')"
      ]
    },
    {
      "cell_type": "code",
      "source": [
        "# Read the CSV file\n",
        "import pandas as pd\n",
        "\n",
        "path_6k_curated = '/content/drive/My Drive/Colab Notebooks/CMAP Drug Prediction/Chembl_P2_Cp_6K_curated.csv'\n",
        "df_6k_curated = pd.read_csv(path_6k_curated)\n",
        "numeric_columns = ['logp', 'TSA', 'mw', 'HBD', 'HBA', 'C_Basic pKa', 'Clogd']  # Add or remove column names as needed\n",
        "df_6k_curated[numeric_columns] = df_6k_curated[numeric_columns].apply(pd.to_numeric, errors='coerce')\n",
        "\n",
        "path_chemical_MPO = '/content/drive/My Drive/Colab Notebooks/CMAP Drug Prediction/MPO_validationset.csv'\n",
        "chemical_MPO = pd.read_csv(path_chemical_MPO)\n",
        "\n",
        "print(chemical_MPO.head)\n",
        "\n"
      ],
      "metadata": {
        "colab": {
          "base_uri": "https://localhost:8080/"
        },
        "id": "-Dz2Z30xupk5",
        "outputId": "7c7e7927-bafe-4cbe-fb8b-c15b28aa8935"
      },
      "execution_count": 32,
      "outputs": [
        {
          "output_type": "stream",
          "name": "stdout",
          "text": [
            "<bound method NDFrame.head of             Drug  MPO      mw  logp   TSA  logd  HBD  basic pka\n",
            "0     Alprazolam  6.0  309.00  2.60  43.0  1.90  0.0        2.4\n",
            "1     Aniracetam  6.0  219.00  0.70  47.0  1.30  0.0        1.0\n",
            "2       Caffeine  6.0  194.00  0.00  62.0 -0.60  0.0        1.0\n",
            "3       Zaleplon  6.0  305.00  1.40  74.0  1.40  0.0        1.0\n",
            "4     Flumazenil  5.9  303.00  1.30  64.0  2.20  0.0        1.0\n",
            "..           ...  ...     ...   ...   ...   ...  ...        ...\n",
            "145  Peptide 20   NaN     NaN   NaN   NaN   NaN  NaN        NaN\n",
            "146    PDK4-IN-1  NaN     NaN   NaN   NaN   NaN  NaN        NaN\n",
            "147    Berberine  NaN  336.37 -1.28  40.8 -1.28  0.0        NaN\n",
            "148   Infliximab  NaN     NaN   NaN   NaN   NaN  NaN        NaN\n",
            "149    Auranofin  NaN  678.49   NaN   NaN   NaN  NaN        NaN\n",
            "\n",
            "[150 rows x 8 columns]>\n"
          ]
        }
      ]
    },
    {
      "cell_type": "markdown",
      "source": [
        "## LogP function"
      ],
      "metadata": {
        "id": "9Ciueucvu9E_"
      }
    },
    {
      "cell_type": "code",
      "source": [
        "def normalize_logP(value):\n",
        "    if value < 3:\n",
        "        return 1\n",
        "    elif 3 <= value < 5:\n",
        "        return 1 - (value - 3) / 2  # Ramp from 1 to 0 over the range 3 to 5\n",
        "    else:\n",
        "        return 0\n",
        "\n",
        "# Assuming df is your DataFrame and 'LogP' is the column name\n",
        "chemical_MPO['Normalized_LogP'] = chemical_MPO['logp'].apply(normalize_logP)\n",
        "df_6k_curated['Normalized_LogP'] = df_6k_curated['logp'].apply(normalize_logP)\n"
      ],
      "metadata": {
        "id": "40D9Lsw9upiS"
      },
      "execution_count": 33,
      "outputs": []
    },
    {
      "cell_type": "markdown",
      "source": [
        "## LogD function"
      ],
      "metadata": {
        "id": "yQk1ZZsEvH8I"
      }
    },
    {
      "cell_type": "code",
      "source": [
        "def normalize_logD(value):\n",
        "    if value < 2:\n",
        "        return 1\n",
        "    elif 2 <= value < 4:\n",
        "        return 1 - (value - 2) / 2  # Ramp from 1 to 0 over the range 2 to 4\n",
        "    else:\n",
        "        return 0\n",
        "\n",
        "chemical_MPO['Normalized_LogD'] = chemical_MPO['logd'].apply(normalize_logD)\n",
        "df_6k_curated['Normalized_CLogD'] = df_6k_curated['Clogd'].apply(normalize_logP)\n"
      ],
      "metadata": {
        "id": "pPPZ66E7upnl"
      },
      "execution_count": 34,
      "outputs": []
    },
    {
      "cell_type": "markdown",
      "source": [
        "## Molecular weight function"
      ],
      "metadata": {
        "id": "uDL9WlphvLlk"
      }
    },
    {
      "cell_type": "code",
      "source": [
        "def normalize_mol_weight(value):\n",
        "    if value < 360:\n",
        "        return 1\n",
        "    elif 360 <= value < 500:\n",
        "        return 1 - (value - 360) / 140  # Ramp from 1 to 0 over the range 360 to 500\n",
        "    else:\n",
        "        return 0\n",
        "\n",
        "chemical_MPO['Normalized_Mol_Weight'] = chemical_MPO['mw'].apply(normalize_mol_weight)\n",
        "df_6k_curated['Normalized_Mol_Weight'] = df_6k_curated['mw'].apply(normalize_mol_weight)\n"
      ],
      "metadata": {
        "id": "lQWwXeuiuuoB"
      },
      "execution_count": 35,
      "outputs": []
    },
    {
      "cell_type": "markdown",
      "source": [
        "#Topological Surface Area function"
      ],
      "metadata": {
        "id": "wuqrlzKqvRz5"
      }
    },
    {
      "cell_type": "code",
      "source": [
        "def normalize_TPSA(value):\n",
        "    if value < 20:\n",
        "        return 0\n",
        "    elif 20 <= value < 40:\n",
        "        return (value - 20) / 20  # Ramp from 0 to 1 over the range 20 to 40\n",
        "    elif 40 <= value <= 90:\n",
        "        return 1\n",
        "    elif 90 < value <= 120:\n",
        "        return 1 - (value - 90) / 30  # Ramp from 1 to 0 over the range 90 to 120\n",
        "    else:\n",
        "        return 0\n",
        "\n",
        "chemical_MPO['Normalized_TPSA'] = chemical_MPO['TSA'].apply(normalize_TPSA)\n",
        "df_6k_curated['Normalized_TSA'] = df_6k_curated['TSA'].apply(normalize_TPSA)\n",
        "\n"
      ],
      "metadata": {
        "id": "3GTOeZ8XuvvI"
      },
      "execution_count": 36,
      "outputs": []
    },
    {
      "cell_type": "markdown",
      "source": [
        "#h-bond donor function"
      ],
      "metadata": {
        "id": "dV6JzMV5vWWO"
      }
    },
    {
      "cell_type": "code",
      "source": [
        "def normalize_hbond_donor(value):\n",
        "    if value == 0:\n",
        "        return 1\n",
        "    elif value == 1:\n",
        "        return 0.75\n",
        "    elif value == 2:\n",
        "        return 0.5\n",
        "    elif value == 3:\n",
        "        return 0.25\n",
        "    else:\n",
        "        return 0\n",
        "\n",
        "chemical_MPO['Normalized_Hbond_Donor'] = chemical_MPO['HBD'].apply(normalize_hbond_donor)\n",
        "df_6k_curated['Normalized_Hbond_Donor'] = df_6k_curated['HBD'].apply(normalize_hbond_donor)"
      ],
      "metadata": {
        "id": "IjJEtLELuymo"
      },
      "execution_count": 37,
      "outputs": []
    },
    {
      "cell_type": "markdown",
      "source": [
        "# basic pKA function"
      ],
      "metadata": {
        "id": "8RXAk-GJ5gTM"
      }
    },
    {
      "cell_type": "code",
      "source": [
        "def normalize_pKa(value):\n",
        "    if value < 8:\n",
        "        return 1\n",
        "    elif 8 <= value < 10:\n",
        "        # Linear decrease from 1 to 0 over the range of 8 to 10\n",
        "        return 1 - (value - 8) / 2\n",
        "    else:\n",
        "        return 0\n",
        "\n",
        "chemical_MPO['Normalized_Most_Basic_pKa'] = chemical_MPO['basic pka'].apply(normalize_pKa)\n",
        "df_6k_curated['Normalized_Most_C_Basic pKa'] = df_6k_curated['C_Basic pKa'].apply(normalize_pKa)\n"
      ],
      "metadata": {
        "id": "O9RjtYp65bPu"
      },
      "execution_count": 38,
      "outputs": []
    },
    {
      "cell_type": "markdown",
      "source": [
        "#Calculate Validation MPO Score"
      ],
      "metadata": {
        "id": "emLiCkiQ-3_8"
      }
    },
    {
      "cell_type": "code",
      "source": [
        "import pandas as pd\n",
        "\n",
        "# Find all columns that contain 'Normalized' in their title\n",
        "normalized_cols = [col for col in chemical_MPO.columns if 'Normalized' in col]\n",
        "\n",
        "# Create 'Calculated_MPO' column by summing normalized values\n",
        "chemical_MPO['Calculated_MPO'] = chemical_MPO[normalized_cols].sum(axis=1)\n",
        "\n",
        "# Move 'Calculated_MPO' to the beginning\n",
        "columns = ['Calculated_MPO'] + [col for col in chemical_MPO.columns if col != 'Calculated_MPO']\n",
        "\n",
        "# Reorder the DataFrame columns\n",
        "chemical_MPO = chemical_MPO[columns]\n",
        "\n",
        "# Add 'Good_Flag' column\n",
        "chemical_MPO['Good_Flag'] = chemical_MPO.apply(lambda x: 'Good' if abs(x['Calculated_MPO'] - x['MPO']) <= 0.25 else '', axis=1)\n",
        "\n"
      ],
      "metadata": {
        "colab": {
          "base_uri": "https://localhost:8080/"
        },
        "id": "HoXHvjdZ258D",
        "outputId": "1d868b8c-1278-4792-f871-1e36b1c94032"
      },
      "execution_count": 39,
      "outputs": [
        {
          "output_type": "stream",
          "name": "stderr",
          "text": [
            "<ipython-input-39-dc7d00175c9c>:16: SettingWithCopyWarning: \n",
            "A value is trying to be set on a copy of a slice from a DataFrame.\n",
            "Try using .loc[row_indexer,col_indexer] = value instead\n",
            "\n",
            "See the caveats in the documentation: https://pandas.pydata.org/pandas-docs/stable/user_guide/indexing.html#returning-a-view-versus-a-copy\n",
            "  chemical_MPO['Good_Flag'] = chemical_MPO.apply(lambda x: 'Good' if abs(x['Calculated_MPO'] - x['MPO']) <= 0.25 else '', axis=1)\n"
          ]
        }
      ]
    },
    {
      "cell_type": "markdown",
      "source": [
        "Calculate novel MPO Scores"
      ],
      "metadata": {
        "id": "j7tASpPzjfmW"
      }
    },
    {
      "cell_type": "code",
      "source": [
        "import pandas as pd\n",
        "\n",
        "# Define a custom function to calculate Calculated_MPO for each row\n",
        "def calculate_new_mpo(row):\n",
        "    # Filter columns that start with \"Normalized_\"\n",
        "    normalized_cols = [col for col in row.index if col.startswith(\"Normalized_\")]\n",
        "\n",
        "    # Check if all columns in the row are not NaN\n",
        "    if not row[normalized_cols].isnull().any():\n",
        "        return row[normalized_cols].sum()\n",
        "    else:\n",
        "        return None\n",
        "\n",
        "# Calculate the initial number of rows\n",
        "initial_row_count = len(df_6k_curated)\n",
        "\n",
        "# Apply the custom function row-wise to calculate Calculated_MPO\n",
        "df_6k_curated['Calculated_MPO'] = df_6k_curated.apply(calculate_new_mpo, axis=1)\n",
        "\n",
        "# Define the numeric columns you want to filter on\n",
        "numeric_columns = ['logp', 'TSA', 'mw', 'HBD', 'HBA', 'C_Basic pKa', 'Clogd']\n",
        "\n",
        "# Filter rows that have NaN values in any of the specified numeric columns\n",
        "df_6k_curated = df_6k_curated.dropna(subset=numeric_columns)\n",
        "\n",
        "# Calculate the number of rows removed\n",
        "rows_removed = initial_row_count - len(df_6k_curated)\n",
        "\n",
        "# Move 'Calculated_MPO' to the beginning in df_6k_curated\n",
        "columns_6k = ['Calculated_MPO'] + [col for col in df_6k_curated.columns if col != 'Calculated_MPO']\n",
        "\n",
        "# Reorder the DataFrame columns for df_6k_curated\n",
        "df_6k_curated = df_6k_curated[columns_6k]\n",
        "\n",
        "# Count the number of rows with and without a Calculated_MPO score\n",
        "count_with_score = df_6k_curated['Calculated_MPO'].notnull().sum()\n",
        "\n",
        "# Print the counts and the number of rows removed\n",
        "print(\"Number of rows with a Calculated_MPO score:\", count_with_score)\n",
        "print(\"Number of rows removed during filtering:\", rows_removed)\n",
        "\n",
        "# Define df_6k_curated_sorted as an empty DataFrame\n",
        "df_6k_curated_sorted = pd.DataFrame()\n",
        "\n",
        "# Sort the DataFrame by 'Calculated_MPO' in descending order\n",
        "df_6k_curated_sorted = df_6k_curated.sort_values(by='Calculated_MPO', ascending=False, na_position='last')\n",
        "\n",
        "# Display the first 15 rows of the sorted DataFrame\n",
        "print(df_6k_curated_sorted.head(15))\n",
        "\n",
        "# Export df_6k_curated to a CSV file\n",
        "df_6k_curated_sorted.to_csv('/content/drive/My Drive/Colab Notebooks/CMAP Drug Prediction/df_6k_curated_withMPO.csv', index=False)\n",
        "\n"
      ],
      "metadata": {
        "colab": {
          "base_uri": "https://localhost:8080/"
        },
        "id": "5mQ1ZI33jkrw",
        "outputId": "d871e85f-7746-4107-cb71-882547ca7372"
      },
      "execution_count": 40,
      "outputs": [
        {
          "output_type": "stream",
          "name": "stdout",
          "text": [
            "Number of rows with a Calculated_MPO score: 3744\n",
            "Number of rows removed during filtering: 2634\n",
            "      Calculated_MPO      ChEMBL ID                       Drug  Phase      mw  \\\n",
            "6168             6.0      CHEMBL934                 METYRAPONE      4  226.28   \n",
            "3798             6.0  CHEMBL2105161                  NICOBOXIL      3  223.27   \n",
            "2502             6.0      CHEMBL681                  ETOMIDATE      4  244.29   \n",
            "1777             6.0      CHEMBL407                 FLUMAZENIL      4  303.29   \n",
            "4474             6.0   CHEMBL136800                      CX516      2  241.29   \n",
            "4343             6.0   CHEMBL435966                 NIMORAZOLE      4  226.24   \n",
            "1780             6.0  CHEMBL3608680               FEZOLINETANT      3  358.40   \n",
            "555              6.0   CHEMBL284092                   GEPIRONE      2  359.47   \n",
            "3050             6.0    CHEMBL13280              FLUNITRAZEPAM      4  313.29   \n",
            "2713             6.0  CHEMBL4297331                     TU-100      2  315.33   \n",
            "5999             6.0  CHEMBL1200330  PILOCARPINE HYDROCHLORIDE      4  244.72   \n",
            "5385             6.0      CHEMBL550                PILOCARPINE      4  208.26   \n",
            "1111             6.0     CHEMBL1444                  LETROZOLE      4  285.31   \n",
            "2483             6.0  CHEMBL1466172     METRONIDAZOLE BENZOATE      2  275.26   \n",
            "893              6.0  CHEMBL1631694               FEXINIDAZOLE      4  279.32   \n",
            "\n",
            "      logp    TSA  HBA  HBD  Clogd  ... Molecular Species  Molecular Formula  \\\n",
            "6168  2.64  42.85  3.0  0.0   2.03  ...           NEUTRAL          C14H14N2O   \n",
            "3798  2.06  48.42  4.0  0.0   2.04  ...           NEUTRAL          C12H17NO3   \n",
            "2502  2.67  44.12  4.0  0.0   2.50  ...           NEUTRAL         C14H16N2O2   \n",
            "1777  1.77  64.43  5.0  0.0   1.39  ...           NEUTRAL        C15H14FN3O3   \n",
            "4474  2.26  46.09  3.0  0.0   1.45  ...           NEUTRAL          C14H15N3O   \n",
            "4343  0.12  73.43  6.0  0.0  -0.11  ...           NEUTRAL          C9H14N4O3   \n",
            "1780  2.46  76.80  7.0  0.0   1.78  ...           NEUTRAL        C16H15FN6OS   \n",
            "555   1.55  69.64  6.0  0.0   0.93  ...           NEUTRAL         C19H29N5O2   \n",
            "3050  2.55  75.81  4.0  0.0   2.55  ...           NEUTRAL        C16H12FN3O3   \n",
            "2713  2.61  54.45  4.0  0.0   2.21  ...           NEUTRAL          C20H13NO3   \n",
            "5999  1.16  44.12  4.0  0.0   0.92  ...           NEUTRAL       C11H17ClN2O2   \n",
            "5385  1.16  44.12  4.0  0.0   0.92  ...           NEUTRAL         C11H16N2O2   \n",
            "1111  2.66  78.29  5.0  0.0   2.94  ...           NEUTRAL           C17H11N5   \n",
            "2483  1.96  87.26  6.0  0.0   2.04  ...           NEUTRAL         C13H13N3O4   \n",
            "893   2.63  70.19  6.0  0.0   2.38  ...           NEUTRAL        C12H13N3O3S   \n",
            "\n",
            "                                                Smiles  \\\n",
            "6168                      CC(C)(C(=O)c1cccnc1)c1cccnc1   \n",
            "3798                             CCCCOCCOC(=O)c1cccnc1   \n",
            "2502                   CCOC(=O)c1cncn1[C@H](C)c1ccccc1   \n",
            "1777           CCOC(=O)c1ncn2c1CN(C)C(=O)c1cc(F)ccc1-2   \n",
            "4474                       O=C(c1ccc2nccnc2c1)N1CCCCC1   \n",
            "4343                     O=[N+]([O-])c1cncn1CCN1CCOCC1   \n",
            "1780  Cc1nsc(-c2nnc3n2CCN(C(=O)c2ccc(F)cc2)[C@@H]3C)n1   \n",
            "555       CC1(C)CC(=O)N(CCCCN2CCN(c3ncccn3)CC2)C(=O)C1   \n",
            "3050    CN1C(=O)CN=C(c2ccccc2F)c2cc([N+](=O)[O-])ccc21   \n",
            "2713        CN1C2C(=O)c3ccccc3C1C1=C2C(=O)c2ccccc2C1=O   \n",
            "5999               CC[C@@H]1C(=O)OC[C@@H]1Cc1cncn1C.Cl   \n",
            "5385                  CC[C@@H]1C(=O)OC[C@@H]1Cc1cncn1C   \n",
            "1111              N#Cc1ccc(C(c2ccc(C#N)cc2)n2cncn2)cc1   \n",
            "2483            Cc1ncc([N+](=O)[O-])n1CCOC(=O)c1ccccc1   \n",
            "893               CSc1ccc(OCc2ncc([N+](=O)[O-])n2C)cc1   \n",
            "\n",
            "                        Inchi Key  Normalized_LogP  Normalized_CLogD  \\\n",
            "6168  FJLBFSROUSIWMA-UHFFFAOYSA-N              1.0               1.0   \n",
            "3798  IZJRISIINLJVBU-UHFFFAOYSA-N              1.0               1.0   \n",
            "2502  NPUKDXXFDDZOKR-LLVKDONJSA-N              1.0               1.0   \n",
            "1777  OFBIFZUFASYYRE-UHFFFAOYSA-N              1.0               1.0   \n",
            "4474  ANDGGVOPIJEHOF-UHFFFAOYSA-N              1.0               1.0   \n",
            "4343  MDJFHRLTPRPZLY-UHFFFAOYSA-N              1.0               1.0   \n",
            "1780  PPSNFPASKFYPMN-SECBINFHSA-N              1.0               1.0   \n",
            "555   QOIGKGMMAGJZNZ-UHFFFAOYSA-N              1.0               1.0   \n",
            "3050  PPTYJKAXVCCBDU-UHFFFAOYSA-N              1.0               1.0   \n",
            "2713  KAYRGFYBCCETPE-UHFFFAOYSA-N              1.0               1.0   \n",
            "5999  RNAICSBVACLLGM-GNAZCLTHSA-N              1.0               1.0   \n",
            "5385  QCHFTSOMWOSFHM-WPRPVWTQSA-N              1.0               1.0   \n",
            "1111  HPJKCIUCZWXJDR-UHFFFAOYSA-N              1.0               1.0   \n",
            "2483  CUUCCLJJOWSASK-UHFFFAOYSA-N              1.0               1.0   \n",
            "893   MIWWSGDADVMLTG-UHFFFAOYSA-N              1.0               1.0   \n",
            "\n",
            "     Normalized_Mol_Weight Normalized_TSA Normalized_Hbond_Donor  \\\n",
            "6168                   1.0            1.0                    1.0   \n",
            "3798                   1.0            1.0                    1.0   \n",
            "2502                   1.0            1.0                    1.0   \n",
            "1777                   1.0            1.0                    1.0   \n",
            "4474                   1.0            1.0                    1.0   \n",
            "4343                   1.0            1.0                    1.0   \n",
            "1780                   1.0            1.0                    1.0   \n",
            "555                    1.0            1.0                    1.0   \n",
            "3050                   1.0            1.0                    1.0   \n",
            "2713                   1.0            1.0                    1.0   \n",
            "5999                   1.0            1.0                    1.0   \n",
            "5385                   1.0            1.0                    1.0   \n",
            "1111                   1.0            1.0                    1.0   \n",
            "2483                   1.0            1.0                    1.0   \n",
            "893                    1.0            1.0                    1.0   \n",
            "\n",
            "     Normalized_Most_C_Basic pKa  \n",
            "6168                         1.0  \n",
            "3798                         1.0  \n",
            "2502                         1.0  \n",
            "1777                         1.0  \n",
            "4474                         1.0  \n",
            "4343                         1.0  \n",
            "1780                         1.0  \n",
            "555                          1.0  \n",
            "3050                         1.0  \n",
            "2713                         1.0  \n",
            "5999                         1.0  \n",
            "5385                         1.0  \n",
            "1111                         1.0  \n",
            "2483                         1.0  \n",
            "893                          1.0  \n",
            "\n",
            "[15 rows x 37 columns]\n"
          ]
        }
      ]
    },
    {
      "cell_type": "markdown",
      "source": [
        "#Displaying the result"
      ],
      "metadata": {
        "id": "HYfpQBlvBgcR"
      }
    },
    {
      "cell_type": "code",
      "source": [
        "!pip install seaborn"
      ],
      "metadata": {
        "colab": {
          "base_uri": "https://localhost:8080/"
        },
        "id": "reLS1cC8CjvV",
        "outputId": "3e0526fc-0899-4f5e-8d9b-1eae799dd927"
      },
      "execution_count": 41,
      "outputs": [
        {
          "output_type": "stream",
          "name": "stdout",
          "text": [
            "Requirement already satisfied: seaborn in /usr/local/lib/python3.10/dist-packages (0.13.1)\n",
            "Requirement already satisfied: numpy!=1.24.0,>=1.20 in /usr/local/lib/python3.10/dist-packages (from seaborn) (1.23.5)\n",
            "Requirement already satisfied: pandas>=1.2 in /usr/local/lib/python3.10/dist-packages (from seaborn) (1.5.3)\n",
            "Requirement already satisfied: matplotlib!=3.6.1,>=3.4 in /usr/local/lib/python3.10/dist-packages (from seaborn) (3.7.1)\n",
            "Requirement already satisfied: contourpy>=1.0.1 in /usr/local/lib/python3.10/dist-packages (from matplotlib!=3.6.1,>=3.4->seaborn) (1.2.0)\n",
            "Requirement already satisfied: cycler>=0.10 in /usr/local/lib/python3.10/dist-packages (from matplotlib!=3.6.1,>=3.4->seaborn) (0.12.1)\n",
            "Requirement already satisfied: fonttools>=4.22.0 in /usr/local/lib/python3.10/dist-packages (from matplotlib!=3.6.1,>=3.4->seaborn) (4.47.2)\n",
            "Requirement already satisfied: kiwisolver>=1.0.1 in /usr/local/lib/python3.10/dist-packages (from matplotlib!=3.6.1,>=3.4->seaborn) (1.4.5)\n",
            "Requirement already satisfied: packaging>=20.0 in /usr/local/lib/python3.10/dist-packages (from matplotlib!=3.6.1,>=3.4->seaborn) (23.2)\n",
            "Requirement already satisfied: pillow>=6.2.0 in /usr/local/lib/python3.10/dist-packages (from matplotlib!=3.6.1,>=3.4->seaborn) (9.4.0)\n",
            "Requirement already satisfied: pyparsing>=2.3.1 in /usr/local/lib/python3.10/dist-packages (from matplotlib!=3.6.1,>=3.4->seaborn) (3.1.1)\n",
            "Requirement already satisfied: python-dateutil>=2.7 in /usr/local/lib/python3.10/dist-packages (from matplotlib!=3.6.1,>=3.4->seaborn) (2.8.2)\n",
            "Requirement already satisfied: pytz>=2020.1 in /usr/local/lib/python3.10/dist-packages (from pandas>=1.2->seaborn) (2023.3.post1)\n",
            "Requirement already satisfied: six>=1.5 in /usr/local/lib/python3.10/dist-packages (from python-dateutil>=2.7->matplotlib!=3.6.1,>=3.4->seaborn) (1.16.0)\n"
          ]
        }
      ]
    },
    {
      "cell_type": "code",
      "source": [
        "import seaborn as sns\n",
        "import matplotlib.pyplot as plt\n",
        "\n",
        "# Get the top 150 rows\n",
        "top_150 = df_6k_curated_sorted.head(1500)\n",
        "\n",
        "# Create a line plot with dots for the top 25 calculated MPO values\n",
        "plt.figure(figsize=(12, 6))\n",
        "sns.lineplot(x=top_150['Drug'], y=top_150['Calculated_MPO'], marker='o', markersize=4)\n",
        "\n",
        "# Add a horizontal dotted red line as a cutoff at 4.0\n",
        "plt.axhline(4.0, color='red', linestyle='--', linewidth=2)\n",
        "\n",
        "# Set the x-axis to logarithmic scale\n",
        "plt.xscale('log')\n",
        "\n",
        "# Improve the plot aesthetics\n",
        "plt.xticks(rotation=45, ha='right')  # Rotate the drug names for readability\n",
        "plt.xlabel('Drug')\n",
        "plt.ylabel('Calculated MPO')\n",
        "plt.title('Top 75 Drugs by Calculated MPO with Cutoff Line (Logarithmic X-axis)')\n",
        "plt.grid(False)\n",
        "\n",
        "# Display the plot\n",
        "plt.show()\n"
      ],
      "metadata": {
        "colab": {
          "base_uri": "https://localhost:8080/",
          "height": 581
        },
        "id": "LtiF4LbmChlR",
        "outputId": "f9d70234-f711-4bd8-b9b1-09a716c2b163"
      },
      "execution_count": 50,
      "outputs": [
        {
          "output_type": "display_data",
          "data": {
            "text/plain": [
              "<Figure size 1200x600 with 1 Axes>"
            ],
            "image/png": "[encoded data removed]"
          },
          "metadata": {}
        }
      ]
    }
  ]
}