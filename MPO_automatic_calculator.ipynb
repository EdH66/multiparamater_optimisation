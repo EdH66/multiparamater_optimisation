{
  "nbformat": 4,
  "nbformat_minor": 0,
  "metadata": {
    "colab": {
      "provenance": [],
      "collapsed_sections": [
        "9Ciueucvu9E_",
        "yQk1ZZsEvH8I",
        "uDL9WlphvLlk",
        "wuqrlzKqvRz5",
        "dV6JzMV5vWWO",
        "8RXAk-GJ5gTM"
      ],
      "authorship_tag": "ABX9TyMd3pbjhmBNdajOXCc/hnOb",
      "include_colab_link": true
    },
    "kernelspec": {
      "name": "python3",
      "display_name": "Python 3"
    },
    "language_info": {
      "name": "python"
    }
  },
  "cells": [
    {
      "cell_type": "markdown",
      "metadata": {
        "id": "view-in-github",
        "colab_type": "text"
      },
      "source": [
        "<a href=\"https://colab.research.google.com/github/EdH66/CMAP-Analysis/blob/main/MPO_automatic_calculator.ipynb\" target=\"_parent\"><img src=\"https://colab.research.google.com/assets/colab-badge.svg\" alt=\"Open In Colab\"/></a>"
      ]
    },
    {
      "cell_type": "markdown",
      "source": [
        "#Multiparameter optimisation (MPO) calculator"
      ],
      "metadata": {
        "id": "BnQvkYfIuzxE"
      }
    },
    {
      "cell_type": "code",
      "execution_count": 16,
      "metadata": {
        "colab": {
          "base_uri": "https://localhost:8080/"
        },
        "id": "q0pvxj1wuh4B",
        "outputId": "41ff0c3e-cce7-4bea-eaf2-2ac41c6edd55"
      },
      "outputs": [
        {
          "output_type": "stream",
          "name": "stdout",
          "text": [
            "Drive already mounted at /content/drive; to attempt to forcibly remount, call drive.mount(\"/content/drive\", force_remount=True).\n"
          ]
        }
      ],
      "source": [
        "from google.colab import drive\n",
        "drive.mount('/content/drive')"
      ]
    },
    {
      "cell_type": "code",
      "source": [
        "# Read the CSV file\n",
        "import pandas as pd\n",
        "\n",
        "path_chemical_MPO = '/content/drive/My Drive/Colab Notebooks/CMAP Drug Prediction/MPO_autocalc.csv'\n",
        "chemical_MPO = pd.read_csv(path_chemical_MPO)\n",
        "\n",
        "print(chemical_MPO.head())\n",
        "\n"
      ],
      "metadata": {
        "colab": {
          "base_uri": "https://localhost:8080/"
        },
        "id": "-Dz2Z30xupk5",
        "outputId": "21c0f37e-c8b1-4420-d414-67dd485dafa3"
      },
      "execution_count": 62,
      "outputs": [
        {
          "output_type": "stream",
          "name": "stdout",
          "text": [
            "         Drug  MPO     mw  logp   TSA  logd  HBD  basic pka\n",
            "0  Alprazolam  6.0  309.0   2.6  43.0   1.9  0.0        2.4\n",
            "1  Aniracetam  6.0  219.0   0.7  47.0   1.3  0.0        1.0\n",
            "2    Caffeine  6.0  194.0   0.0  62.0  -0.6  0.0        1.0\n",
            "3    Zaleplon  6.0  305.0   1.4  74.0   1.4  0.0        1.0\n",
            "4  Flumazenil  5.9  303.0   1.3  64.0   2.2  0.0        1.0\n"
          ]
        }
      ]
    },
    {
      "cell_type": "code",
      "source": [],
      "metadata": {
        "id": "ZZMP1EIo2V_H"
      },
      "execution_count": 62,
      "outputs": []
    },
    {
      "cell_type": "markdown",
      "source": [
        "## LogP function"
      ],
      "metadata": {
        "id": "9Ciueucvu9E_"
      }
    },
    {
      "cell_type": "code",
      "source": [
        "def normalize_logP(value):\n",
        "    if value < 3:\n",
        "        return 1\n",
        "    elif 3 <= value < 5:\n",
        "        return 1 - (value - 3) / 2  # Ramp from 1 to 0 over the range 3 to 5\n",
        "    else:\n",
        "        return 0\n",
        "\n",
        "# Assuming df is your DataFrame and 'LogP' is the column name\n",
        "chemical_MPO['Normalized_LogP'] = chemical_MPO['logp'].apply(normalize_logP)\n"
      ],
      "metadata": {
        "id": "40D9Lsw9upiS"
      },
      "execution_count": 63,
      "outputs": []
    },
    {
      "cell_type": "markdown",
      "source": [
        "## LogD function"
      ],
      "metadata": {
        "id": "yQk1ZZsEvH8I"
      }
    },
    {
      "cell_type": "code",
      "source": [
        "def normalize_logD(value):\n",
        "    if value < 2:\n",
        "        return 1\n",
        "    elif 2 <= value < 4:\n",
        "        return 1 - (value - 2) / 2  # Ramp from 1 to 0 over the range 2 to 4\n",
        "    else:\n",
        "        return 0\n",
        "\n",
        "chemical_MPO['Normalized_LogD'] = chemical_MPO['logd'].apply(normalize_logD)\n"
      ],
      "metadata": {
        "id": "pPPZ66E7upnl"
      },
      "execution_count": 64,
      "outputs": []
    },
    {
      "cell_type": "markdown",
      "source": [
        "## Molecular weight function"
      ],
      "metadata": {
        "id": "uDL9WlphvLlk"
      }
    },
    {
      "cell_type": "code",
      "source": [
        "def normalize_mol_weight(value):\n",
        "    if value < 360:\n",
        "        return 1\n",
        "    elif 360 <= value < 500:\n",
        "        return 1 - (value - 360) / 140  # Ramp from 1 to 0 over the range 360 to 500\n",
        "    else:\n",
        "        return 0\n",
        "\n",
        "chemical_MPO['Normalized_Mol_Weight'] = chemical_MPO['mw'].apply(normalize_mol_weight)\n"
      ],
      "metadata": {
        "id": "lQWwXeuiuuoB"
      },
      "execution_count": 65,
      "outputs": []
    },
    {
      "cell_type": "markdown",
      "source": [
        "#Topological Surface Area function"
      ],
      "metadata": {
        "id": "wuqrlzKqvRz5"
      }
    },
    {
      "cell_type": "code",
      "source": [
        "def normalize_TPSA(value):\n",
        "    if value < 20:\n",
        "        return 0\n",
        "    elif 20 <= value < 40:\n",
        "        return (value - 20) / 20  # Ramp from 0 to 1 over the range 20 to 40\n",
        "    elif 40 <= value <= 90:\n",
        "        return 1\n",
        "    elif 90 < value <= 120:\n",
        "        return 1 - (value - 90) / 30  # Ramp from 1 to 0 over the range 90 to 120\n",
        "    else:\n",
        "        return 0\n",
        "\n",
        "chemical_MPO['Normalized_TPSA'] = chemical_MPO['TSA'].apply(normalize_TPSA)\n"
      ],
      "metadata": {
        "id": "3GTOeZ8XuvvI"
      },
      "execution_count": 66,
      "outputs": []
    },
    {
      "cell_type": "markdown",
      "source": [
        "#h-bond donor function"
      ],
      "metadata": {
        "id": "dV6JzMV5vWWO"
      }
    },
    {
      "cell_type": "code",
      "source": [
        "def normalize_hbond_donor(value):\n",
        "    if value == 0:\n",
        "        return 1\n",
        "    elif value == 1:\n",
        "        return 0.75\n",
        "    elif value == 2:\n",
        "        return 0.5\n",
        "    elif value == 3:\n",
        "        return 0.25\n",
        "    else:\n",
        "        return 0\n",
        "\n",
        "chemical_MPO['Normalized_Hbond_Donor'] = chemical_MPO['HBD'].apply(normalize_hbond_donor)\n"
      ],
      "metadata": {
        "id": "IjJEtLELuymo"
      },
      "execution_count": 67,
      "outputs": []
    },
    {
      "cell_type": "markdown",
      "source": [
        "# basic pKA function"
      ],
      "metadata": {
        "id": "8RXAk-GJ5gTM"
      }
    },
    {
      "cell_type": "code",
      "source": [
        "def normalize_pKa(value):\n",
        "    if value < 8:\n",
        "        return 1\n",
        "    elif 8 <= value < 10:\n",
        "        # Linear decrease from 1 to 0 over the range of 8 to 10\n",
        "        return 1 - (value - 8) / 2\n",
        "    else:\n",
        "        return 0\n",
        "\n",
        "chemical_MPO['Normalized_Most_Basic_pKa'] = chemical_MPO['basic pka'].apply(normalize_pKa)\n",
        "\n"
      ],
      "metadata": {
        "id": "O9RjtYp65bPu"
      },
      "execution_count": 68,
      "outputs": []
    },
    {
      "cell_type": "markdown",
      "source": [
        "#Calculate MPO Score"
      ],
      "metadata": {
        "id": "emLiCkiQ-3_8"
      }
    },
    {
      "cell_type": "code",
      "source": [
        "import pandas as pd\n",
        "\n",
        "# Find all columns that contain 'Normalized' in their title\n",
        "normalized_cols = [col for col in chemical_MPO.columns if 'Normalized' in col]\n",
        "\n",
        "# Create 'Calculated_MPO' column by summing normalized values\n",
        "chemical_MPO['Calculated_MPO'] = chemical_MPO[normalized_cols].sum(axis=1)\n",
        "\n",
        "# Move 'Calculated_MPO' to the beginning\n",
        "columns = ['Calculated_MPO'] + [col for col in chemical_MPO.columns if col != 'Calculated_MPO']\n",
        "\n",
        "# Reorder the DataFrame columns\n",
        "chemical_MPO = chemical_MPO[columns]\n",
        "\n",
        "# Add 'Good_Flag' column\n",
        "chemical_MPO['Good_Flag'] = chemical_MPO.apply(lambda x: 'Good' if abs(x['Calculated_MPO'] - x['MPO']) <= 0.25 else '', axis=1)\n",
        "\n",
        "# Display the DataFrame\n",
        "print(chemical_MPO[['Calculated_MPO', 'MPO']].head())\n",
        "\n",
        "# Display the DataFrame\n",
        "# Print the DataFrame\n",
        "print(chemical_MPO)\n"
      ],
      "metadata": {
        "colab": {
          "base_uri": "https://localhost:8080/"
        },
        "id": "HoXHvjdZ258D",
        "outputId": "dfafc169-221c-48c8-bf0a-c528bd5e4602"
      },
      "execution_count": 72,
      "outputs": [
        {
          "output_type": "stream",
          "name": "stdout",
          "text": [
            "   Calculated_MPO  MPO\n",
            "0             6.0  6.0\n",
            "1             6.0  6.0\n",
            "2             6.0  6.0\n",
            "3             6.0  6.0\n",
            "4             5.9  5.9\n",
            "     Calculated_MPO         Drug  MPO      mw  logp   TSA  logd  HBD  \\\n",
            "0               6.0   Alprazolam  6.0  309.00  2.60  43.0  1.90  0.0   \n",
            "1               6.0   Aniracetam  6.0  219.00  0.70  47.0  1.30  0.0   \n",
            "2               6.0     Caffeine  6.0  194.00  0.00  62.0 -0.60  0.0   \n",
            "3               6.0     Zaleplon  6.0  305.00  1.40  74.0  1.40  0.0   \n",
            "4               5.9   Flumazenil  5.9  303.00  1.30  64.0  2.20  0.0   \n",
            "..              ...          ...  ...     ...   ...   ...   ...  ...   \n",
            "145             0.0  Peptide 20   NaN     NaN   NaN   NaN   NaN  NaN   \n",
            "146             0.0    PDK4-IN-1  NaN     NaN   NaN   NaN   NaN  NaN   \n",
            "147             5.0    Berberine  NaN  336.37 -1.28  40.8 -1.28  0.0   \n",
            "148             0.0   Infliximab  NaN     NaN   NaN   NaN   NaN  NaN   \n",
            "149             0.0    Auranofin  NaN  678.49   NaN   NaN   NaN  NaN   \n",
            "\n",
            "     basic pka  Normalized_LogP  Normalized_LogD  Normalized_Mol_Weight  \\\n",
            "0          2.4              1.0              1.0                    1.0   \n",
            "1          1.0              1.0              1.0                    1.0   \n",
            "2          1.0              1.0              1.0                    1.0   \n",
            "3          1.0              1.0              1.0                    1.0   \n",
            "4          1.0              1.0              0.9                    1.0   \n",
            "..         ...              ...              ...                    ...   \n",
            "145        NaN              0.0              0.0                    0.0   \n",
            "146        NaN              0.0              0.0                    0.0   \n",
            "147        NaN              1.0              1.0                    1.0   \n",
            "148        NaN              0.0              0.0                    0.0   \n",
            "149        NaN              0.0              0.0                    0.0   \n",
            "\n",
            "     Normalized_TPSA  Normalized_Hbond_Donor  Normalized_Most_Basic_pKa  \\\n",
            "0                1.0                     1.0                        1.0   \n",
            "1                1.0                     1.0                        1.0   \n",
            "2                1.0                     1.0                        1.0   \n",
            "3                1.0                     1.0                        1.0   \n",
            "4                1.0                     1.0                        1.0   \n",
            "..               ...                     ...                        ...   \n",
            "145              0.0                     0.0                        0.0   \n",
            "146              0.0                     0.0                        0.0   \n",
            "147              1.0                     1.0                        0.0   \n",
            "148              0.0                     0.0                        0.0   \n",
            "149              0.0                     0.0                        0.0   \n",
            "\n",
            "    Good_Flag  \n",
            "0        Good  \n",
            "1        Good  \n",
            "2        Good  \n",
            "3        Good  \n",
            "4        Good  \n",
            "..        ...  \n",
            "145            \n",
            "146            \n",
            "147            \n",
            "148            \n",
            "149            \n",
            "\n",
            "[150 rows x 16 columns]\n"
          ]
        }
      ]
    }
  ]
}