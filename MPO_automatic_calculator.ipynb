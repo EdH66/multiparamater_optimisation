{
  "nbformat": 4,
  "nbformat_minor": 0,
  "metadata": {
    "colab": {
      "provenance": [],
      "collapsed_sections": [
        "9Ciueucvu9E_",
        "yQk1ZZsEvH8I",
        "uDL9WlphvLlk",
        "wuqrlzKqvRz5",
        "dV6JzMV5vWWO",
        "8RXAk-GJ5gTM"
      ],
      "authorship_tag": "ABX9TyOUdzNTneYg/+gd+2nAbXUY",
      "include_colab_link": true
    },
    "kernelspec": {
      "name": "python3",
      "display_name": "Python 3"
    },
    "language_info": {
      "name": "python"
    }
  },
  "cells": [
    {
      "cell_type": "markdown",
      "metadata": {
        "id": "view-in-github",
        "colab_type": "text"
      },
      "source": [
        "<a href=\"https://colab.research.google.com/github/EdH66/CMAP-Analysis/blob/main/MPO_automatic_calculator.ipynb\" target=\"_parent\"><img src=\"https://colab.research.google.com/assets/colab-badge.svg\" alt=\"Open In Colab\"/></a>"
      ]
    },
    {
      "cell_type": "markdown",
      "source": [
        "#Multiparameter optimisation (MPO) calculator"
      ],
      "metadata": {
        "id": "BnQvkYfIuzxE"
      }
    },
    {
      "cell_type": "code",
      "execution_count": 16,
      "metadata": {
        "colab": {
          "base_uri": "https://localhost:8080/"
        },
        "id": "q0pvxj1wuh4B",
        "outputId": "41ff0c3e-cce7-4bea-eaf2-2ac41c6edd55"
      },
      "outputs": [
        {
          "output_type": "stream",
          "name": "stdout",
          "text": [
            "Drive already mounted at /content/drive; to attempt to forcibly remount, call drive.mount(\"/content/drive\", force_remount=True).\n"
          ]
        }
      ],
      "source": [
        "from google.colab import drive\n",
        "drive.mount('/content/drive')"
      ]
    },
    {
      "cell_type": "code",
      "source": [
        "# Read the CSV file\n",
        "import pandas as pd\n",
        "\n",
        "path_chemical_MPO = '/content/drive/My Drive/Colab Notebooks/CMAP Drug Prediction/MPO_autocalc.csv'\n",
        "chemical_MPO = pd.read_csv(path_chemical_MPO)\n",
        "\n",
        "print(chemical_MPO.head())\n",
        "\n"
      ],
      "metadata": {
        "colab": {
          "base_uri": "https://localhost:8080/"
        },
        "id": "-Dz2Z30xupk5",
        "outputId": "21c0f37e-c8b1-4420-d414-67dd485dafa3"
      },
      "execution_count": 62,
      "outputs": [
        {
          "output_type": "stream",
          "name": "stdout",
          "text": [
            "         Drug  MPO     mw  logp   TSA  logd  HBD  basic pka\n",
            "0  Alprazolam  6.0  309.0   2.6  43.0   1.9  0.0        2.4\n",
            "1  Aniracetam  6.0  219.0   0.7  47.0   1.3  0.0        1.0\n",
            "2    Caffeine  6.0  194.0   0.0  62.0  -0.6  0.0        1.0\n",
            "3    Zaleplon  6.0  305.0   1.4  74.0   1.4  0.0        1.0\n",
            "4  Flumazenil  5.9  303.0   1.3  64.0   2.2  0.0        1.0\n"
          ]
        }
      ]
    },
    {
      "cell_type": "code",
      "source": [],
      "metadata": {
        "id": "ZZMP1EIo2V_H"
      },
      "execution_count": 62,
      "outputs": []
    },
    {
      "cell_type": "markdown",
      "source": [
        "## LogP function"
      ],
      "metadata": {
        "id": "9Ciueucvu9E_"
      }
    },
    {
      "cell_type": "code",
      "source": [
        "def normalize_logP(value):\n",
        "    if value < 3:\n",
        "        return 1\n",
        "    elif 3 <= value < 5:\n",
        "        return 1 - (value - 3) / 2  # Ramp from 1 to 0 over the range 3 to 5\n",
        "    else:\n",
        "        return 0\n",
        "\n",
        "# Assuming df is your DataFrame and 'LogP' is the column name\n",
        "chemical_MPO['Normalized_LogP'] = chemical_MPO['logp'].apply(normalize_logP)\n"
      ],
      "metadata": {
        "id": "40D9Lsw9upiS"
      },
      "execution_count": 63,
      "outputs": []
    },
    {
      "cell_type": "markdown",
      "source": [
        "## LogD function"
      ],
      "metadata": {
        "id": "yQk1ZZsEvH8I"
      }
    },
    {
      "cell_type": "code",
      "source": [
        "def normalize_logD(value):\n",
        "    if value < 2:\n",
        "        return 1\n",
        "    elif 2 <= value < 4:\n",
        "        return 1 - (value - 2) / 2  # Ramp from 1 to 0 over the range 2 to 4\n",
        "    else:\n",
        "        return 0\n",
        "\n",
        "chemical_MPO['Normalized_LogD'] = chemical_MPO['logd'].apply(normalize_logD)\n"
      ],
      "metadata": {
        "id": "pPPZ66E7upnl"
      },
      "execution_count": 64,
      "outputs": []
    },
    {
      "cell_type": "markdown",
      "source": [
        "## Molecular weight function"
      ],
      "metadata": {
        "id": "uDL9WlphvLlk"
      }
    },
    {
      "cell_type": "code",
      "source": [
        "def normalize_mol_weight(value):\n",
        "    if value < 360:\n",
        "        return 1\n",
        "    elif 360 <= value < 500:\n",
        "        return 1 - (value - 360) / 140  # Ramp from 1 to 0 over the range 360 to 500\n",
        "    else:\n",
        "        return 0\n",
        "\n",
        "chemical_MPO['Normalized_Mol_Weight'] = chemical_MPO['mw'].apply(normalize_mol_weight)\n"
      ],
      "metadata": {
        "id": "lQWwXeuiuuoB"
      },
      "execution_count": 65,
      "outputs": []
    },
    {
      "cell_type": "markdown",
      "source": [
        "#Topological Surface Area function"
      ],
      "metadata": {
        "id": "wuqrlzKqvRz5"
      }
    },
    {
      "cell_type": "code",
      "source": [
        "def normalize_TPSA(value):\n",
        "    if value < 20:\n",
        "        return 0\n",
        "    elif 20 <= value < 40:\n",
        "        return (value - 20) / 20  # Ramp from 0 to 1 over the range 20 to 40\n",
        "    elif 40 <= value <= 90:\n",
        "        return 1\n",
        "    elif 90 < value <= 120:\n",
        "        return 1 - (value - 90) / 30  # Ramp from 1 to 0 over the range 90 to 120\n",
        "    else:\n",
        "        return 0\n",
        "\n",
        "chemical_MPO['Normalized_TPSA'] = chemical_MPO['TSA'].apply(normalize_TPSA)\n"
      ],
      "metadata": {
        "id": "3GTOeZ8XuvvI"
      },
      "execution_count": 66,
      "outputs": []
    },
    {
      "cell_type": "markdown",
      "source": [
        "#h-bond donor function"
      ],
      "metadata": {
        "id": "dV6JzMV5vWWO"
      }
    },
    {
      "cell_type": "code",
      "source": [
        "def normalize_hbond_donor(value):\n",
        "    if value == 0:\n",
        "        return 1\n",
        "    elif value == 1:\n",
        "        return 0.75\n",
        "    elif value == 2:\n",
        "        return 0.5\n",
        "    elif value == 3:\n",
        "        return 0.25\n",
        "    else:\n",
        "        return 0\n",
        "\n",
        "chemical_MPO['Normalized_Hbond_Donor'] = chemical_MPO['HBD'].apply(normalize_hbond_donor)\n"
      ],
      "metadata": {
        "id": "IjJEtLELuymo"
      },
      "execution_count": 67,
      "outputs": []
    },
    {
      "cell_type": "markdown",
      "source": [
        "# basic pKA function"
      ],
      "metadata": {
        "id": "8RXAk-GJ5gTM"
      }
    },
    {
      "cell_type": "code",
      "source": [
        "def normalize_pKa(value):\n",
        "    if value < 8:\n",
        "        return 1\n",
        "    elif 8 <= value < 10:\n",
        "        # Linear decrease from 1 to 0 over the range of 8 to 10\n",
        "        return 1 - (value - 8) / 2\n",
        "    else:\n",
        "        return 0\n",
        "\n",
        "chemical_MPO['Normalized_Most_Basic_pKa'] = chemical_MPO['basic pka'].apply(normalize_pKa)\n",
        "\n"
      ],
      "metadata": {
        "id": "O9RjtYp65bPu"
      },
      "execution_count": 68,
      "outputs": []
    },
    {
      "cell_type": "markdown",
      "source": [
        "#Calculate MPO Score"
      ],
      "metadata": {
        "id": "emLiCkiQ-3_8"
      }
    },
    {
      "cell_type": "code",
      "source": [
        "import pandas as pd\n",
        "\n",
        "# Find all columns that contain 'Normalized' in their title\n",
        "normalized_cols = [col for col in chemical_MPO.columns if 'Normalized' in col]\n",
        "\n",
        "# Create 'Calculated_MPO' column by summing normalized values\n",
        "chemical_MPO['Calculated_MPO'] = chemical_MPO[normalized_cols].sum(axis=1)\n",
        "\n",
        "# Move 'Calculated_MPO' to the beginning\n",
        "columns = ['Calculated_MPO'] + [col for col in chemical_MPO.columns if col != 'Calculated_MPO']\n",
        "\n",
        "# Reorder the DataFrame columns\n",
        "chemical_MPO = chemical_MPO[columns]\n",
        "\n",
        "# Add 'Good_Flag' column\n",
        "chemical_MPO['Good_Flag'] = chemical_MPO.apply(lambda x: 'Good' if abs(x['Calculated_MPO'] - x['MPO']) <= 0.25 else '', axis=1)\n",
        "\n",
        "\n"
      ],
      "metadata": {
        "id": "HoXHvjdZ258D"
      },
      "execution_count": null,
      "outputs": []
    },
    {
      "cell_type": "markdown",
      "source": [
        "#Displaying the result"
      ],
      "metadata": {
        "id": "HYfpQBlvBgcR"
      }
    },
    {
      "cell_type": "code",
      "source": [
        "# Sort the DataFrame by 'Calculated_MPO' in descending order\n",
        "chemical_MPO_sorted = chemical_MPO.sort_values(by='Calculated_MPO', ascending=False, na_position='last')\n",
        "\n",
        "# Display the first 25 rows of the sorted DataFrame\n",
        "print(chemical_MPO_sorted.head(15))\n",
        "\n"
      ],
      "metadata": {
        "colab": {
          "base_uri": "https://localhost:8080/"
        },
        "id": "80xtjsp8A9lb",
        "outputId": "efed63ae-03de-4e46-9faf-23e562bd511e"
      },
      "execution_count": 76,
      "outputs": [
        {
          "output_type": "stream",
          "name": "stdout",
          "text": [
            "     Calculated_MPO           Drug  MPO      mw  logp    TSA  logd  HBD  \\\n",
            "0          6.000000     Alprazolam  6.0  309.00  2.60  43.00  1.90  0.0   \n",
            "3          6.000000       Zaleplon  6.0  305.00  1.40  74.00  1.40  0.0   \n",
            "1          6.000000     Aniracetam  6.0  219.00  0.70  47.00  1.30  0.0   \n",
            "2          6.000000       Caffeine  6.0  194.00  0.00  62.00 -0.60  0.0   \n",
            "4          5.900000     Flumazenil  5.9  303.00  1.30  64.00  2.20  0.0   \n",
            "5          5.885714   Remifentanil  5.9  376.00  2.00  76.00  1.80  0.0   \n",
            "6          5.814286      Buspirone  5.8  386.00  2.20  70.00  1.20  0.0   \n",
            "7          5.750000   Ethosuximide  5.8  141.00  0.40  46.00  0.20  1.0   \n",
            "8          5.750000    Galantamine  5.8  287.00  1.00  42.00 -0.70  1.0   \n",
            "9          5.750000    Moclobemide  5.8  269.00  2.20  42.00  1.30  1.0   \n",
            "10         5.750000      Oxycodone  5.8  315.00  0.00  59.00  1.10  1.0   \n",
            "11         5.750000     Thiopental  5.8  242.00  1.80  59.00 -0.90  1.0   \n",
            "13         5.700000    Hydrocodone  5.7  299.00  1.10  39.00  1.40  0.0   \n",
            "14         5.650000      Minaprine  5.7  298.00  3.20  50.00  1.90  1.0   \n",
            "119        5.645000  Rosiglitazone  5.6  357.44  2.45  71.53  2.21  1.0   \n",
            "\n",
            "     basic pka  Normalized_LogP  Normalized_LogD  Normalized_Mol_Weight  \\\n",
            "0         2.40              1.0            1.000               1.000000   \n",
            "3         1.00              1.0            1.000               1.000000   \n",
            "1         1.00              1.0            1.000               1.000000   \n",
            "2         1.00              1.0            1.000               1.000000   \n",
            "4         1.00              1.0            0.900               1.000000   \n",
            "5         6.70              1.0            1.000               0.885714   \n",
            "6         7.70              1.0            1.000               0.814286   \n",
            "7         1.00              1.0            1.000               1.000000   \n",
            "8         7.90              1.0            1.000               1.000000   \n",
            "9         6.50              1.0            1.000               1.000000   \n",
            "10        7.60              1.0            1.000               1.000000   \n",
            "11        1.00              1.0            1.000               1.000000   \n",
            "13        8.50              1.0            1.000               1.000000   \n",
            "14        6.80              0.9            1.000               1.000000   \n",
            "119       6.23              1.0            0.895               1.000000   \n",
            "\n",
            "     Normalized_TPSA  Normalized_Hbond_Donor  Normalized_Most_Basic_pKa  \\\n",
            "0               1.00                    1.00                       1.00   \n",
            "3               1.00                    1.00                       1.00   \n",
            "1               1.00                    1.00                       1.00   \n",
            "2               1.00                    1.00                       1.00   \n",
            "4               1.00                    1.00                       1.00   \n",
            "5               1.00                    1.00                       1.00   \n",
            "6               1.00                    1.00                       1.00   \n",
            "7               1.00                    0.75                       1.00   \n",
            "8               1.00                    0.75                       1.00   \n",
            "9               1.00                    0.75                       1.00   \n",
            "10              1.00                    0.75                       1.00   \n",
            "11              1.00                    0.75                       1.00   \n",
            "13              0.95                    1.00                       0.75   \n",
            "14              1.00                    0.75                       1.00   \n",
            "119             1.00                    0.75                       1.00   \n",
            "\n",
            "    Good_Flag  \n",
            "0        Good  \n",
            "3        Good  \n",
            "1        Good  \n",
            "2        Good  \n",
            "4        Good  \n",
            "5        Good  \n",
            "6        Good  \n",
            "7        Good  \n",
            "8        Good  \n",
            "9        Good  \n",
            "10       Good  \n",
            "11       Good  \n",
            "13       Good  \n",
            "14       Good  \n",
            "119      Good  \n"
          ]
        }
      ]
    },
    {
      "cell_type": "markdown",
      "source": [
        "Drugs that were not calculated"
      ],
      "metadata": {
        "id": "JIS2HtPFBdHr"
      }
    },
    {
      "cell_type": "code",
      "source": [
        "# Filter for rows where 'Calculated_MPO' is NaN\n",
        "drugs_without_calculated_MPO = chemical_MPO[chemical_MPO['Calculated_MPO'].isna()]\n",
        "\n",
        "# Print the 'Drug' column from this filtered DataFrame\n",
        "print(drugs_without_calculated_MPO['Drug'])"
      ],
      "metadata": {
        "colab": {
          "base_uri": "https://localhost:8080/"
        },
        "id": "H0QE5OwNBWxi",
        "outputId": "de46422b-38b3-4a7c-c781-539f83d2f2d7"
      },
      "execution_count": 74,
      "outputs": [
        {
          "output_type": "stream",
          "name": "stdout",
          "text": [
            "Series([], Name: Drug, dtype: object)\n"
          ]
        }
      ]
    }
  ]
}