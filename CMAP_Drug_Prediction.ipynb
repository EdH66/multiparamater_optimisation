{
  "nbformat": 4,
  "nbformat_minor": 0,
  "metadata": {
    "colab": {
      "provenance": [],
      "authorship_tag": "ABX9TyMcs05EbNrhZTkzwpG7jFxx",
      "include_colab_link": true
    },
    "kernelspec": {
      "name": "python3",
      "display_name": "Python 3"
    },
    "language_info": {
      "name": "python"
    }
  },
  "cells": [
    {
      "cell_type": "markdown",
      "metadata": {
        "id": "view-in-github",
        "colab_type": "text"
      },
      "source": [
        "<a href=\"https://colab.research.google.com/github/EdH66/CMAP-Analysis/blob/main/CMAP_Drug_Prediction.ipynb\" target=\"_parent\"><img src=\"https://colab.research.google.com/assets/colab-badge.svg\" alt=\"Open In Colab\"/></a>"
      ]
    },
    {
      "cell_type": "code",
      "execution_count": 1,
      "metadata": {
        "id": "OFbMQcYN0f-0",
        "colab": {
          "base_uri": "https://localhost:8080/"
        },
        "outputId": "8dfdd74a-2372-489d-e3f7-947f90db8f64"
      },
      "outputs": [
        {
          "output_type": "stream",
          "name": "stdout",
          "text": [
            "Mounted at /content/drive\n"
          ]
        }
      ],
      "source": [
        "from google.colab import drive\n",
        "drive.mount('/content/drive')"
      ]
    },
    {
      "cell_type": "code",
      "source": [
        "import pandas as pd\n",
        "from sklearn.metrics import jaccard_score\n",
        "import numpy as np\n"
      ],
      "metadata": {
        "id": "alH56DB607ZK"
      },
      "execution_count": 2,
      "outputs": []
    },
    {
      "cell_type": "code",
      "source": [
        "# Read the CSV file\n",
        "url = '/content/drive/My Drive/Colab Notebooks/CMAP Drug Prediction/CMAP_Jaquard_test.csv'  # Replace with the URL of your CSV file\n",
        "df = pd.read_csv(url)\n",
        "\n"
      ],
      "metadata": {
        "id": "uy8Ij6SV07iA"
      },
      "execution_count": 6,
      "outputs": []
    },
    {
      "cell_type": "markdown",
      "source": [
        "Jaquard similarity"
      ],
      "metadata": {
        "id": "0zjz-vGm33cJ"
      }
    },
    {
      "cell_type": "code",
      "source": [
        "# Function to calculate Jaccard similarity\n",
        "def calculate_jaccard_similarity(series1, series2):\n",
        "    set1 = set(series1.dropna())\n",
        "    set2 = set(series2.dropna())\n",
        "    intersection = set1.intersection(set2)\n",
        "    union = set1.union(set2)\n",
        "    if not union:  # Prevent division by zero\n",
        "        return np.nan\n",
        "    return len(intersection) / len(union)\n",
        "\n"
      ],
      "metadata": {
        "id": "VXViFFmg07pJ"
      },
      "execution_count": 7,
      "outputs": []
    },
    {
      "cell_type": "code",
      "source": [
        "\n",
        "\n",
        "# Extract columns\n",
        "col1 = df['8 weeks']\n",
        "col3 = df['12 weeks']\n",
        "col5 = df['16 weeks']\n",
        "\n",
        "# Calculate Jaccard similarities\n",
        "similarity_13 = calculate_jaccard_similarity(col1, col3)\n",
        "similarity_15 = calculate_jaccard_similarity(col1, col5)\n",
        "similarity_35 = calculate_jaccard_similarity(col3, col5)\n",
        "\n",
        "# Print results\n",
        "print(f\"Jaccard Similarity between Week 8 and Week 12: {similarity_13}\")\n",
        "print(f\"Jaccard Similarity between Week 8 and Week 16: {similarity_15}\")\n",
        "print(f\"Jaccard Similarity between Week 12 and Week 16: {similarity_35}\")"
      ],
      "metadata": {
        "colab": {
          "base_uri": "https://localhost:8080/"
        },
        "id": "vxQe8f-d1lnC",
        "outputId": "e0a463e5-2768-4546-8e20-743cb2a3b82c"
      },
      "execution_count": 10,
      "outputs": [
        {
          "output_type": "stream",
          "name": "stdout",
          "text": [
            "Jaccard Similarity between Week 8 and Week 12: 0.39485087942900843\n",
            "Jaccard Similarity between Week 8 and Week 16: 0.16097809475292918\n",
            "Jaccard Similarity between Week 12 and Week 16: 0.11102106969205834\n"
          ]
        }
      ]
    },
    {
      "cell_type": "code",
      "source": [],
      "metadata": {
        "id": "OyAmeOIG3FNX"
      },
      "execution_count": null,
      "outputs": []
    },
    {
      "cell_type": "markdown",
      "source": [
        "Attempt at weighted similarity"
      ],
      "metadata": {
        "id": "rTjj7T3F3zaT"
      }
    },
    {
      "cell_type": "code",
      "source": [
        "def custom_similarity(df, col_drug1, col_ncs1, col_drug2, col_ncs2):\n",
        "    # Ensure NCS columns are numeric\n",
        "    df[col_ncs1] = pd.to_numeric(df[col_ncs1], errors='coerce')\n",
        "    df[col_ncs2] = pd.to_numeric(df[col_ncs2], errors='coerce')\n",
        "\n",
        "    # Drop rows where either drug name or NCS is NaN\n",
        "    df = df.dropna(subset=[col_drug1, col_ncs1, col_drug2, col_ncs2])\n",
        "\n",
        "    # Creating dictionaries to pair drugs with their NCS values\n",
        "    drugs_at_time1 = dict(zip(df[col_drug1], df[col_ncs1]))\n",
        "    drugs_at_time2 = dict(zip(df[col_drug2], df[col_ncs2]))\n",
        "\n",
        "    # Identifying common and unique drugs\n",
        "    common_drugs = set(drugs_at_time1.keys()).intersection(set(drugs_at_time2.keys()))\n",
        "    all_drugs = set(drugs_at_time1.keys()).union(set(drugs_at_time2.keys()))\n",
        "\n",
        "    # Calculating weighted intersection and union\n",
        "    intersection = sum(min(drugs_at_time1.get(drug, 0), drugs_at_time2.get(drug, 0)) for drug in all_drugs)\n",
        "    union = sum(max(drugs_at_time1.get(drug, 0), drugs_at_time2.get(drug, 0)) for drug in all_drugs)\n",
        "\n",
        "    # Computing similarity\n",
        "    return intersection / union if union != 0 else 0\n",
        "\n",
        "# Example usage\n",
        "similarity_8_12 = custom_similarity(df, '8 weeks', 'NCS', '12 weeks', 'NCS')\n",
        "similarity_8_16 = custom_similarity(df, '8 weeks', 'NCS', '16 weeks', 'NCS')\n",
        "similarity_12_16 = custom_similarity(df, '12 weeks', 'NCS', '16 weeks', 'NCS')\n",
        "\n",
        "print(f\"Similarity between Week 8 and Week 12: {similarity_8_12}\")\n",
        "print(f\"Similarity between Week 8 and Week 16: {similarity_8_16}\")\n",
        "print(f\"Similarity between Week 12 and Week 16: {similarity_12_16}\")\n",
        "\n"
      ],
      "metadata": {
        "colab": {
          "base_uri": "https://localhost:8080/"
        },
        "id": "TXg_mfKI3le5",
        "outputId": "c167a4e2-7786-4bbf-bcd0-97872e23bda4"
      },
      "execution_count": 15,
      "outputs": [
        {
          "output_type": "stream",
          "name": "stdout",
          "text": [
            "Similarity between Week 8 and Week 12: 3.143496349250033\n",
            "Similarity between Week 8 and Week 16: 7.7715833689922\n",
            "Similarity between Week 12 and Week 16: 13.552498471211056\n"
          ]
        }
      ]
    }
  ]
}