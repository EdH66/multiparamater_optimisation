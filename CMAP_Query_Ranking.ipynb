{
  "nbformat": 4,
  "nbformat_minor": 0,
  "metadata": {
    "colab": {
      "provenance": [],
      "authorship_tag": "ABX9TyNx+LoNilcs67YxkXwNNxun",
      "include_colab_link": true
    },
    "kernelspec": {
      "name": "python3",
      "display_name": "Python 3"
    },
    "language_info": {
      "name": "python"
    }
  },
  "cells": [
    {
      "cell_type": "markdown",
      "metadata": {
        "id": "view-in-github",
        "colab_type": "text"
      },
      "source": [
        "<a href=\"https://colab.research.google.com/github/EdH66/CMAP-Analysis/blob/main/CMAP_Query_Ranking.ipynb\" target=\"_parent\"><img src=\"https://colab.research.google.com/assets/colab-badge.svg\" alt=\"Open In Colab\"/></a>"
      ]
    },
    {
      "cell_type": "code",
      "execution_count": 2,
      "metadata": {
        "id": "OFbMQcYN0f-0",
        "colab": {
          "base_uri": "https://localhost:8080/"
        },
        "outputId": "fe343a96-4321-4b60-8192-7f5f591573e1"
      },
      "outputs": [
        {
          "output_type": "stream",
          "name": "stdout",
          "text": [
            "Drive already mounted at /content/drive; to attempt to forcibly remount, call drive.mount(\"/content/drive\", force_remount=True).\n"
          ]
        }
      ],
      "source": [
        "from google.colab import drive\n",
        "drive.mount('/content/drive')"
      ]
    },
    {
      "cell_type": "code",
      "source": [
        "import pandas as pd\n",
        "from sklearn.metrics import jaccard_score\n",
        "import numpy as np\n",
        "\n",
        "!pip install matplotlib\n"
      ],
      "metadata": {
        "id": "alH56DB607ZK",
        "colab": {
          "base_uri": "https://localhost:8080/"
        },
        "outputId": "8992c83b-ec97-42bb-b444-59f4cc4207d1"
      },
      "execution_count": 3,
      "outputs": [
        {
          "output_type": "stream",
          "name": "stdout",
          "text": [
            "Requirement already satisfied: matplotlib in /usr/local/lib/python3.10/dist-packages (3.7.1)\n",
            "Requirement already satisfied: contourpy>=1.0.1 in /usr/local/lib/python3.10/dist-packages (from matplotlib) (1.2.0)\n",
            "Requirement already satisfied: cycler>=0.10 in /usr/local/lib/python3.10/dist-packages (from matplotlib) (0.12.1)\n",
            "Requirement already satisfied: fonttools>=4.22.0 in /usr/local/lib/python3.10/dist-packages (from matplotlib) (4.47.2)\n",
            "Requirement already satisfied: kiwisolver>=1.0.1 in /usr/local/lib/python3.10/dist-packages (from matplotlib) (1.4.5)\n",
            "Requirement already satisfied: numpy>=1.20 in /usr/local/lib/python3.10/dist-packages (from matplotlib) (1.23.5)\n",
            "Requirement already satisfied: packaging>=20.0 in /usr/local/lib/python3.10/dist-packages (from matplotlib) (23.2)\n",
            "Requirement already satisfied: pillow>=6.2.0 in /usr/local/lib/python3.10/dist-packages (from matplotlib) (9.4.0)\n",
            "Requirement already satisfied: pyparsing>=2.3.1 in /usr/local/lib/python3.10/dist-packages (from matplotlib) (3.1.1)\n",
            "Requirement already satisfied: python-dateutil>=2.7 in /usr/local/lib/python3.10/dist-packages (from matplotlib) (2.8.2)\n",
            "Requirement already satisfied: six>=1.5 in /usr/local/lib/python3.10/dist-packages (from python-dateutil>=2.7->matplotlib) (1.16.0)\n"
          ]
        }
      ]
    },
    {
      "cell_type": "code",
      "source": [
        "# Read the CSV file\n",
        "path_CMAP = '/content/drive/My Drive/Colab Notebooks/CMAP Drug Prediction/CMAP_Predictions_Aggregatedlists.csv'  # Replace with the URL of your CSV file\n",
        "path_MPO = '/content/drive/My Drive/Colab Notebooks/CMAP Drug Prediction/Compound_MPOvalues_curated.csv'\n",
        "df_CMAP = pd.read_csv(path_CMAP)\n",
        "df_MPO = pd.read_csv(path_MPO)\n"
      ],
      "metadata": {
        "id": "uy8Ij6SV07iA"
      },
      "execution_count": 4,
      "outputs": []
    },
    {
      "cell_type": "code",
      "source": [
        "print(df_CMAP.columns)\n",
        "# Print the first few rows of the DataFrame\n",
        "print(\"First few rows of the DataFrame:\")\n",
        "print(df_CMAP.head())\n",
        "\n",
        "# Print the number of non-NA/null entries in each column\n",
        "print(\"\\nNumber of non-NA/null entries in each column:\")\n",
        "print(df_CMAP.count())\n"
      ],
      "metadata": {
        "colab": {
          "base_uri": "https://localhost:8080/"
        },
        "id": "TKhfMwC1zMo2",
        "outputId": "bb62ca19-b2ec-4342-8b97-ab75d2e3d99d"
      },
      "execution_count": 5,
      "outputs": [
        {
          "output_type": "stream",
          "name": "stdout",
          "text": [
            "Index(['8 weeks', 'NCS', '12 weeks', 'NCS.1', '16 weeks', 'NCS.2', '18 weeks',\n",
            "       'NCS.3', '20 weeks', 'NCS.4'],\n",
            "      dtype='object')\n",
            "First few rows of the DataFrame:\n",
            "           8 weeks       NCS     12 weeks     NCS.1     16 weeks     NCS.2  \\\n",
            "0        alisertib -1.897671          IL1 -1.983262  BAY-87-2243 -1.942013   \n",
            "1          XMD-132 -1.826331   GALR2_GALP -1.919355    estradiol -1.931010   \n",
            "2  ketocholesterol -1.819495   entinostat -1.919287   aniracetam -1.879556   \n",
            "3      ARRY-334543 -1.804553  importazole -1.899100   endo-IWR-1 -1.877958   \n",
            "4       SA-1459830 -1.794416  clofarabine -1.893594      fenigam -1.864297   \n",
            "\n",
            "        18 weeks     NCS.3       20 weeks     NCS.4  \n",
            "0  BRD-K45319476 -1.474600  BRD-K47703442 -1.212188  \n",
            "1  BRD-K17731272 -1.474600  BRD-K15950605 -1.183600  \n",
            "2      I-BET-762 -1.474600  chelerythrine -1.183600  \n",
            "3  BRD-K65730939 -1.455916    HG-14-10-04 -1.183600  \n",
            "4    KIN-001-220 -1.437232      tiagabine -1.183600  \n",
            "\n",
            "Number of non-NA/null entries in each column:\n",
            "8 weeks      3866\n",
            "NCS          3866\n",
            "12 weeks    16192\n",
            "NCS.1       16192\n",
            "16 weeks      590\n",
            "NCS.2         590\n",
            "18 weeks      553\n",
            "NCS.3         553\n",
            "20 weeks     4493\n",
            "NCS.4        4493\n",
            "dtype: int64\n"
          ]
        }
      ]
    },
    {
      "cell_type": "code",
      "source": [
        "print(df_MPO.columns)\n",
        "# Print the first few rows of the DataFrame\n",
        "print(\"First few rows of the DataFrame:\")\n",
        "print(df_MPO.head())\n",
        "\n",
        "# Print the number of non-NA/null entries in each column\n",
        "print(\"\\nNumber of non-NA/null entries in each column:\")\n",
        "print(df_MPO.count())"
      ],
      "metadata": {
        "colab": {
          "base_uri": "https://localhost:8080/"
        },
        "id": "rMnfdyMeg7jI",
        "outputId": "c6cbae4f-5f9e-4eba-d329-c994cbba427a"
      },
      "execution_count": 6,
      "outputs": [
        {
          "output_type": "stream",
          "name": "stdout",
          "text": [
            "Index(['Drug', 'MPO'], dtype='object')\n",
            "First few rows of the DataFrame:\n",
            "         Drug  MPO\n",
            "0  Alprazolam  6.0\n",
            "1  Aniracetam  6.0\n",
            "2    Caffeine  6.0\n",
            "3    Zaleplon  6.0\n",
            "4  Flumazenil  5.9\n",
            "\n",
            "Number of non-NA/null entries in each column:\n",
            "Drug    133\n",
            "MPO     133\n",
            "dtype: int64\n"
          ]
        }
      ]
    },
    {
      "cell_type": "code",
      "source": [
        "import pandas as pd\n",
        "\n",
        "# Define the list of compounds\n",
        "compounds_list = ['rosiglitazone', 'fluoxetine', 'alisertib', 'tomelukast', 'celastrol',\n",
        "                  'pioglitazone', 'TWS-119', 'barasertib', 'clenbuterol', 'withaferin']\n",
        "\n",
        "# Define the list columns\n",
        "list_cols = ['8 weeks', '12 weeks', '16 weeks', '18 weeks', '20 weeks']\n",
        "\n",
        "# Initialize an empty dictionary to store the data\n",
        "compound_presence = {compound: {week: 0 for week in list_cols} for compound in compounds_list}\n",
        "\n",
        "# Populate the dictionary with counts\n",
        "for compound in compounds_list:\n",
        "    for week in list_cols:\n",
        "        compound_presence[compound][week] = df_CMAP[week].tolist().count(compound)\n",
        "\n",
        "# Convert the dictionary to a DataFrame for better visualization\n",
        "presence_df = pd.DataFrame(compound_presence).T  # Transpose to get compounds as rows\n",
        "\n",
        "# Display the table\n",
        "print(presence_df)\n"
      ],
      "metadata": {
        "colab": {
          "base_uri": "https://localhost:8080/"
        },
        "id": "-GdNq4vF_HeE",
        "outputId": "42a1f1b5-1954-463b-f81e-d2adb1b22497"
      },
      "execution_count": 12,
      "outputs": [
        {
          "output_type": "stream",
          "name": "stdout",
          "text": [
            "               8 weeks  12 weeks  16 weeks  18 weeks  20 weeks\n",
            "rosiglitazone        5         7         1         0         2\n",
            "fluoxetine           1        10         1         0         0\n",
            "alisertib            6        14         1         0         1\n",
            "tomelukast           2         3         0         0         0\n",
            "celastrol            3         8         0         0         0\n",
            "pioglitazone         0         6         0         0         2\n",
            "TWS-119              7         2         0         0         0\n",
            "barasertib           1         8         0         0         2\n",
            "clenbuterol          4         1         0         0         2\n",
            "withaferin           0         0         0         0         0\n"
          ]
        }
      ]
    },
    {
      "cell_type": "markdown",
      "source": [
        "Ranking methods for all three lists"
      ],
      "metadata": {
        "id": "Hfjy4sW1y50_"
      }
    },
    {
      "cell_type": "code",
      "source": [
        "def find_compound_ranks(df_CMAP, list_cols, score_cols, compounds_to_find):\n",
        "    # Exclude '18 weeks' if needed\n",
        "    list_cols = [col for col in list_cols if col != '18 weeks']\n",
        "    score_cols = [score for score in score_cols if score != 'NCS.3']\n",
        "\n",
        "    # Filter out compounds starting with 'BRD'\n",
        "    df_filtered = df_CMAP.copy()\n",
        "    for col in list_cols:\n",
        "        df_filtered[col] = df_filtered[col].astype(str)\n",
        "        df_filtered = df_filtered[~df_filtered[col].str.startswith('BRD')]\n",
        "\n",
        "    # Rank compounds within each list based on their NCS scores\n",
        "    for col, score_col in zip(list_cols, score_cols):\n",
        "        df_filtered[f'Rank_{score_col}'] = df_filtered[score_col].rank(ascending=False)\n",
        "\n",
        "    # Identify compounds present in at least one of the lists\n",
        "    compounds_in_lists = set(df_filtered[list_cols[0]].dropna())\n",
        "    for col in list_cols[1:]:\n",
        "        compounds_in_lists.update(set(df_filtered[col].dropna()))\n",
        "\n",
        "    # Calculate average ranks for these compounds in each list\n",
        "    compound_ranks = {compound: [] for compound in compounds_in_lists}\n",
        "    for compound in compounds_in_lists:\n",
        "        for col, rank_col in zip(list_cols, [f'Rank_{sc}' for sc in score_cols]):\n",
        "            if compound in df_filtered[col].values:\n",
        "                # Get all ranks of the compound in the list\n",
        "                ranks = df_filtered[df_filtered[col] == compound][rank_col].tolist()\n",
        "                if ranks:\n",
        "                    avg_rank_in_list = sum(ranks) / len(ranks)\n",
        "                    compound_ranks[compound].append(avg_rank_in_list)\n",
        "\n",
        "    # Calculate overall average rank for each compound across lists\n",
        "    overall_avg_ranks = {compound: sum(ranks) / len(ranks) if ranks else None\n",
        "                         for compound, ranks in compound_ranks.items()}\n",
        "\n",
        "    # Sort compounds by overall average rank in ascending order\n",
        "    sorted_compounds = sorted(overall_avg_ranks.items(), key=lambda x: (x[1] is not None, x[1]), reverse=False)\n",
        "\n",
        "    # Find the ranks of specific compounds\n",
        "    ranks = {}\n",
        "    for compound_to_find in compounds_to_find:\n",
        "        rank = next((rank for rank, (comp, _) in enumerate(sorted_compounds, start=1) if comp == compound_to_find), None)\n",
        "        ranks[compound_to_find] = rank\n",
        "\n",
        "    return sorted_compounds, ranks\n",
        "\n",
        "# Example usage\n",
        "list_cols = ['8 weeks', '12 weeks', '16 weeks', '18 weeks', '20 weeks']\n",
        "score_cols = ['NCS', 'NCS.1', 'NCS.2', 'NCS.3', 'NCS.4']\n",
        "compounds_to_find = ['rosiglitazone', 'fluoxetine', 'alisertib', 'tomelukast', 'celastrol', 'pioglitazone', 'TWS-119', 'barasertib', 'clenbuterol', 'withaferin']\n",
        "ranked_compounds, ranks = find_compound_ranks(df_CMAP, list_cols, score_cols, compounds_to_find)\n",
        "\n",
        "# Display the ranks of specific compounds\n",
        "print(\"Ranks of specific compounds:\")\n",
        "for compound, rank in ranks.items():\n",
        "    print(f\"{compound}: {rank}\")\n",
        "\n",
        "\n",
        "\n",
        "\n"
      ],
      "metadata": {
        "colab": {
          "base_uri": "https://localhost:8080/"
        },
        "id": "z-PhoOimy3Au",
        "outputId": "b3bdfbe2-b489-494a-eec4-49f87574682e"
      },
      "execution_count": 32,
      "outputs": [
        {
          "output_type": "stream",
          "name": "stdout",
          "text": [
            "Ranks of specific compounds:\n",
            "rosiglitazone: 2193\n",
            "fluoxetine: 1927\n",
            "alisertib: 171\n",
            "tomelukast: 192\n",
            "celastrol: 2539\n",
            "pioglitazone: 2169\n",
            "TWS-119: 2002\n",
            "barasertib: 2590\n",
            "clenbuterol: 1381\n",
            "withaferin: None\n"
          ]
        }
      ]
    },
    {
      "cell_type": "code",
      "source": [
        "## this cell runs a long time - does it need to be in the block above???##\n",
        "\n",
        "# Call the function and get the sorted compounds\n",
        "compound_info_df, ranks = find_compound_ranks(df_CMAP, list_cols, score_cols, compounds_to_find)\n",
        "\n",
        "# Create a DataFrame from sorted_compounds\n",
        "compound_info_df = pd.DataFrame(compound_info_df, columns=['Drug', 'Average_Rank'])\n",
        "\n",
        "# Now you can use .head() as compound_info_df is a DataFrame\n",
        "print(compound_info_df.head())\n",
        "\n",
        "\n"
      ],
      "metadata": {
        "id": "SkYiqDzRsDVp"
      },
      "execution_count": null,
      "outputs": []
    },
    {
      "cell_type": "code",
      "source": [
        "# Normalize and merge dfs\n",
        "df_MPO['Drug'] = df_MPO['Drug'].str.lower()\n",
        "\n",
        "Average_rank_MPO = pd.merge(compound_info_df, df_MPO, left_on='Drug', right_on='Drug', how='inner')\n",
        "\n",
        "list_cols = ['8 weeks', '12 weeks', '16 weeks', '18 weeks', '20 weeks']\n",
        "score_cols = ['NCS', 'NCS.1', 'NCS.2', 'NCS.3', 'NCS.4']\n",
        "compounds_to_find = ['rosiglitazone', 'fluoxetine', 'alisertib', 'tomelukast', 'celastrol', 'pioglitazone', 'TWS-119', 'barasertib', 'clenbuterol', 'withaferin']\n",
        "\n",
        "print(Average_rank_MPO.head())\n"
      ],
      "metadata": {
        "colab": {
          "base_uri": "https://localhost:8080/"
        },
        "id": "cK99ZWJ0pTGK",
        "outputId": "d7367556-c392-4a91-d996-c33bb4fb61b5"
      },
      "execution_count": 37,
      "outputs": [
        {
          "output_type": "stream",
          "name": "stdout",
          "text": [
            "          Drug  Average_Rank  MPO drug_normalized\n",
            "0  tropisetron    754.500000  4.8     tropisetron\n",
            "1    alisertib   2047.863636  3.6       alisertib\n",
            "2   tomelukast   2222.833333  5.1      tomelukast\n",
            "3   aniracetam   2611.600000  6.0      aniracetam\n",
            "4   lofexidine   2759.375000  4.4      lofexidine\n"
          ]
        }
      ]
    },
    {
      "cell_type": "code",
      "source": [],
      "metadata": {
        "id": "wswRslvNsCnT"
      },
      "execution_count": null,
      "outputs": []
    },
    {
      "cell_type": "code",
      "source": [
        "import matplotlib.pyplot as plt\n",
        "\n",
        "# Assuming compound_info_df is already defined and contains the necessary data\n",
        "plt.figure(figsize=(10, 6))\n",
        "\n",
        "# Scatter plot\n",
        "plt.scatter(Average_rank_MPO['Average_Rank'], Average_rank_MPO['MPO'], color='blue')\n",
        "\n",
        "# Add drug names to specific points\n",
        "for index, row in Average_rank_MPO.iterrows():\n",
        "    if row['MPO'] > 4 and row['Average_Rank'] < 1000:\n",
        "        plt.text(row['Average_Rank'], row['MPO'], row['Drug'], fontsize=9)\n",
        "\n",
        "# Invert x-axis to have largest values on the left\n",
        "plt.gca().invert_xaxis()\n",
        "\n",
        "# Setting title and labels\n",
        "plt.title('Average Rank vs MPO')\n",
        "plt.xlabel('Average Rank')\n",
        "plt.ylabel('MPO')\n",
        "plt.grid(True)\n",
        "plt.show()\n",
        "\n",
        "## WHY ARE THEIR RANKS OF 12OOO WHEN THE LARGEST DATA FRAME DOESNT HAVE THIS MANY COMPOUNDS ### 12 WEEKS ACTUALLY HAS 16000 AND IS SKEWING THE DATA"
      ],
      "metadata": {
        "colab": {
          "base_uri": "https://localhost:8080/",
          "height": 564
        },
        "id": "sSQ1WgtjZILE",
        "outputId": "1e84c84d-a309-4d39-93a9-1859a919787a"
      },
      "execution_count": 41,
      "outputs": [
        {
          "output_type": "display_data",
          "data": {
            "text/plain": [
              "<Figure size 1000x600 with 1 Axes>"
            ],
            "image/png": "[encoded data removed]"
          },
          "metadata": {}
        }
      ]
    },
    {
      "cell_type": "markdown",
      "source": [
        "#Jacquard Analysis"
      ],
      "metadata": {
        "id": "swDT7NVC7sik"
      }
    },
    {
      "cell_type": "code",
      "source": [
        "# Function to calculate Jaccard similarity\n",
        "def calculate_jaccard_similarity(series1, series2):\n",
        "    set1 = set(series1.dropna())\n",
        "    set2 = set(series2.dropna())\n",
        "    intersection = set1.intersection(set2)\n",
        "    union = set1.union(set2)\n",
        "    if not union:  # Prevent division by zero\n",
        "        return np.nan\n",
        "    return len(intersection) / len(union)\n",
        "\n"
      ],
      "metadata": {
        "id": "VXViFFmg07pJ"
      },
      "execution_count": null,
      "outputs": []
    },
    {
      "cell_type": "code",
      "source": [
        "\n",
        "\n",
        "# Extract columns\n",
        "col1 = df['8 weeks']\n",
        "col3 = df['12 weeks']\n",
        "col5 = df['16 weeks']\n",
        "\n",
        "# Calculate Jaccard similarities\n",
        "similarity_13 = calculate_jaccard_similarity(col1, col3)\n",
        "similarity_15 = calculate_jaccard_similarity(col1, col5)\n",
        "similarity_35 = calculate_jaccard_similarity(col3, col5)\n",
        "\n",
        "# Print results\n",
        "print(f\"Jaccard Similarity between Week 8 and Week 12: {similarity_13}\")\n",
        "print(f\"Jaccard Similarity between Week 8 and Week 16: {similarity_15}\")\n",
        "print(f\"Jaccard Similarity between Week 12 and Week 16: {similarity_35}\")"
      ],
      "metadata": {
        "id": "vxQe8f-d1lnC"
      },
      "execution_count": null,
      "outputs": []
    },
    {
      "cell_type": "code",
      "source": [],
      "metadata": {
        "id": "OyAmeOIG3FNX"
      },
      "execution_count": null,
      "outputs": []
    },
    {
      "cell_type": "markdown",
      "source": [
        "Attempt at weighted similarity"
      ],
      "metadata": {
        "id": "rTjj7T3F3zaT"
      }
    },
    {
      "cell_type": "code",
      "source": [
        "def custom_similarity(df, col_drug1, col_ncs1, col_drug2, col_ncs2):\n",
        "    # Ensure NCS columns are numeric\n",
        "    df[col_ncs1] = pd.to_numeric(df[col_ncs1], errors='coerce')\n",
        "    df[col_ncs2] = pd.to_numeric(df[col_ncs2], errors='coerce')\n",
        "\n",
        "    # Drop rows where either drug name or NCS is NaN\n",
        "    df = df.dropna(subset=[col_drug1, col_ncs1, col_drug2, col_ncs2])\n",
        "\n",
        "    # Creating dictionaries to pair drugs with their NCS values\n",
        "    drugs_at_time1 = dict(zip(df[col_drug1], df[col_ncs1]))\n",
        "    drugs_at_time2 = dict(zip(df[col_drug2], df[col_ncs2]))\n",
        "\n",
        "    # Identifying common and unique drugs\n",
        "    common_drugs = set(drugs_at_time1.keys()).intersection(set(drugs_at_time2.keys()))\n",
        "    all_drugs = set(drugs_at_time1.keys()).union(set(drugs_at_time2.keys()))\n",
        "\n",
        "    # Calculating weighted intersection and union\n",
        "    intersection = sum(min(drugs_at_time1.get(drug, 0), drugs_at_time2.get(drug, 0)) for drug in all_drugs)\n",
        "    union = sum(max(drugs_at_time1.get(drug, 0), drugs_at_time2.get(drug, 0)) for drug in all_drugs)\n",
        "\n",
        "    # Computing similarity\n",
        "    return intersection / union if union != 0 else 0\n",
        "\n",
        "# Example usage\n",
        "similarity_8_12 = custom_similarity(df, '8 weeks', 'NCS', '12 weeks', 'NCS')\n",
        "similarity_8_16 = custom_similarity(df, '8 weeks', 'NCS', '16 weeks', 'NCS')\n",
        "similarity_12_16 = custom_similarity(df, '12 weeks', 'NCS', '16 weeks', 'NCS')\n",
        "\n",
        "print(f\"Similarity between Week 8 and Week 12: {similarity_8_12}\")\n",
        "print(f\"Similarity between Week 8 and Week 16: {similarity_8_16}\")\n",
        "print(f\"Similarity between Week 12 and Week 16: {similarity_12_16}\")\n",
        "\n"
      ],
      "metadata": {
        "id": "TXg_mfKI3le5"
      },
      "execution_count": null,
      "outputs": []
    },
    {
      "cell_type": "markdown",
      "source": [
        "Unclear how to interpret these data and also expecting 0-1 range"
      ],
      "metadata": {
        "id": "x91TQkWg4TWc"
      }
    }
  ]
}