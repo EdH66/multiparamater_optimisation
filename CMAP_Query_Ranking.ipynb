{
  "nbformat": 4,
  "nbformat_minor": 0,
  "metadata": {
    "colab": {
      "provenance": [],
      "authorship_tag": "ABX9TyPKtXwJ/uQFFqcnJasUs0aH",
      "include_colab_link": true
    },
    "kernelspec": {
      "name": "python3",
      "display_name": "Python 3"
    },
    "language_info": {
      "name": "python"
    }
  },
  "cells": [
    {
      "cell_type": "markdown",
      "metadata": {
        "id": "view-in-github",
        "colab_type": "text"
      },
      "source": [
        "<a href=\"https://colab.research.google.com/github/EdH66/CMAP-Analysis/blob/main/CMAP_Query_Ranking.ipynb\" target=\"_parent\"><img src=\"https://colab.research.google.com/assets/colab-badge.svg\" alt=\"Open In Colab\"/></a>"
      ]
    },
    {
      "cell_type": "code",
      "execution_count": null,
      "metadata": {
        "id": "OFbMQcYN0f-0",
        "colab": {
          "base_uri": "https://localhost:8080/"
        },
        "outputId": "b77e99fe-3270-4315-c821-78ad615fac6e"
      },
      "outputs": [
        {
          "output_type": "stream",
          "name": "stdout",
          "text": [
            "Mounted at /content/drive\n"
          ]
        }
      ],
      "source": [
        "from google.colab import drive\n",
        "drive.mount('/content/drive')"
      ]
    },
    {
      "cell_type": "code",
      "source": [
        "import pandas as pd\n",
        "from sklearn.metrics import jaccard_score\n",
        "import numpy as np\n"
      ],
      "metadata": {
        "id": "alH56DB607ZK"
      },
      "execution_count": null,
      "outputs": []
    },
    {
      "cell_type": "code",
      "source": [
        "# Read the CSV file\n",
        "url = '/content/drive/My Drive/Colab Notebooks/CMAP Drug Prediction/CMAP_Jaquard_test.csv'  # Replace with the URL of your CSV file\n",
        "df = pd.read_csv(url)\n",
        "\n"
      ],
      "metadata": {
        "id": "uy8Ij6SV07iA"
      },
      "execution_count": null,
      "outputs": []
    },
    {
      "cell_type": "code",
      "source": [
        "print(df.columns)\n",
        "# Print the first few rows of the DataFrame\n",
        "print(\"First few rows of the DataFrame:\")\n",
        "print(df.head())\n",
        "\n",
        "# Print the number of non-NA/null entries in each column\n",
        "print(\"\\nNumber of non-NA/null entries in each column:\")\n",
        "print(df.count())\n"
      ],
      "metadata": {
        "colab": {
          "base_uri": "https://localhost:8080/"
        },
        "id": "TKhfMwC1zMo2",
        "outputId": "1733eb8a-0a89-41e3-da78-d074544e862c"
      },
      "execution_count": 9,
      "outputs": [
        {
          "output_type": "stream",
          "name": "stdout",
          "text": [
            "Index(['8 weeks', 'NCS', '12 weeks', 'NCS.1', '16 weeks', 'NCS.2'], dtype='object')\n",
            "First few rows of the DataFrame:\n",
            "           8 weeks       NCS     12 weeks     NCS.1     16 weeks     NCS.2\n",
            "0        alisertib -1.897671          IL1 -1.983262  BAY-87-2243 -1.942013\n",
            "1          XMD-132 -1.826331   GALR2_GALP -1.919355    estradiol -1.931010\n",
            "2  ketocholesterol -1.819495   entinostat -1.919287   aniracetam -1.879556\n",
            "3      ARRY-334543 -1.804553  importazole -1.899100   endo-IWR-1 -1.877958\n",
            "4       SA-1459830 -1.794416  clofarabine -1.893594      fenigam -1.864297\n",
            "\n",
            "Number of non-NA/null entries in each column:\n",
            "8 weeks      3866\n",
            "NCS          3866\n",
            "12 weeks    16192\n",
            "NCS.1       16192\n",
            "16 weeks      590\n",
            "NCS.2         590\n",
            "dtype: int64\n"
          ]
        }
      ]
    },
    {
      "cell_type": "code",
      "source": [
        "import pandas as pd\n",
        "\n",
        "# Assuming 'df' is your DataFrame\n",
        "# Define the list of compounds\n",
        "compounds_list = ['rosiglitazone', 'fluoxetine', 'alisertib', 'tomelukast', 'celastrol',\n",
        "                  'pioglitazone', 'TWS-119', 'barasertib', 'clenbuterol', 'withaferin']\n",
        "\n",
        "# Define the list columns\n",
        "list_cols = ['8 weeks', '12 weeks', '16 weeks']\n",
        "\n",
        "# Initialize an empty dictionary to store the data\n",
        "compound_presence = {compound: {week: 0 for week in list_cols} for compound in compounds_list}\n",
        "\n",
        "# Populate the dictionary with counts\n",
        "for compound in compounds_list:\n",
        "    for week in list_cols:\n",
        "        compound_presence[compound][week] = df[week].tolist().count(compound)\n",
        "\n",
        "# Convert the dictionary to a DataFrame for better visualization\n",
        "presence_df = pd.DataFrame(compound_presence).T  # Transpose to get compounds as rows\n",
        "\n",
        "# Display the table\n",
        "print(presence_df)\n"
      ],
      "metadata": {
        "colab": {
          "base_uri": "https://localhost:8080/"
        },
        "id": "-GdNq4vF_HeE",
        "outputId": "99076dfe-3748-47ee-8716-ecb9d69cb577"
      },
      "execution_count": 30,
      "outputs": [
        {
          "output_type": "stream",
          "name": "stdout",
          "text": [
            "               8 weeks  12 weeks  16 weeks\n",
            "rosiglitazone        5         7         1\n",
            "fluoxetine           1        10         1\n",
            "alisertib            6        14         1\n",
            "tomelukast           2         3         0\n",
            "celastrol            3         8         0\n",
            "pioglitazone         0         6         0\n",
            "TWS-119              7         2         0\n",
            "barasertib           1         8         0\n",
            "clenbuterol          4         1         0\n",
            "withaferin           0         0         0\n"
          ]
        }
      ]
    },
    {
      "cell_type": "markdown",
      "source": [
        "Ranking methods for all three lists"
      ],
      "metadata": {
        "id": "Hfjy4sW1y50_"
      }
    },
    {
      "cell_type": "code",
      "source": [
        "def rank_compounds_two_lists(df, list_cols, score_cols):\n",
        "    # Identify compounds present in at least two of the lists\n",
        "    compounds_in_two_lists = set()\n",
        "    for i, col1 in enumerate(list_cols):\n",
        "        for col2 in list_cols[i+1:]:\n",
        "            # Create a set for each pairwise intersection\n",
        "            intersection = set(df[col1].dropna()).intersection(set(df[col2].dropna()))\n",
        "            compounds_in_two_lists.update(intersection)\n",
        "\n",
        "    # Calculate average scores for these compounds\n",
        "    compound_scores = {compound: 0 for compound in compounds_in_two_lists}\n",
        "    count_scores = {compound: 0 for compound in compounds_in_two_lists}  # to keep count of the scores\n",
        "    for compound in compounds_in_two_lists:\n",
        "        for col, score_col in zip(list_cols, score_cols):\n",
        "            if compound in df[col].values:\n",
        "                # Find the row index where the compound is located in the column\n",
        "                row_index = df[df[col] == compound].index[0]\n",
        "                # Add the score to the total score for the compound\n",
        "                compound_scores[compound] += df.at[row_index, score_col]\n",
        "                count_scores[compound] += 1\n",
        "\n",
        "    # Calculate average by dividing total score by count for each compound\n",
        "    for compound in compound_scores:\n",
        "        if count_scores[compound] > 0:  # Avoid division by zero\n",
        "            compound_scores[compound] /= count_scores[compound]\n",
        "\n",
        "    sorted_compounds = sorted(compound_scores.items(), key=lambda x: x[1], reverse=False)[:50]\n",
        "\n",
        "    return sorted_compounds\n",
        "\n",
        "# Example usage\n",
        "list_cols = ['8 weeks', '12 weeks', '16 weeks']\n",
        "score_cols = ['NCS', 'NCS.1', 'NCS.2']\n",
        "ranked_compounds = rank_compounds_two_lists(df, list_cols, score_cols)\n",
        "\n",
        "# Display the number of entries\n",
        "print(f\"Number of entries in the ranked list: {len(ranked_compounds)}\")\n",
        "\n",
        "# Display the top compounds\n",
        "print(\"Top ranked compounds present in at least two lists:\")\n",
        "for rank, (compound, avg_score) in enumerate(ranked_compounds, start=1):\n",
        "    print(f\"{rank}: {compound}, {avg_score}\")\n",
        "\n"
      ],
      "metadata": {
        "colab": {
          "base_uri": "https://localhost:8080/"
        },
        "id": "z-PhoOimy3Au",
        "outputId": "12661b26-91a4-4a05-ea40-8c8691209c1d"
      },
      "execution_count": 28,
      "outputs": [
        {
          "output_type": "stream",
          "name": "stdout",
          "text": [
            "Number of entries in the ranked list: 100\n",
            "Top ranked compounds present in at least two lists:\n",
            "1: clofarabine, -1.740156531\n",
            "2: AGK-2, -1.728138328\n",
            "3: estradiol, -1.7230899333333332\n",
            "4: phentermine, -1.7159402965\n",
            "5: iniparib, -1.7138214115000001\n",
            "6: enalapril, -1.70603323\n",
            "7: importazole, -1.7032221950000002\n",
            "8: cyanocobalamin, -1.6981638669999999\n",
            "9: idarubicin, -1.691242814\n",
            "10: withaferin-a, -1.688018918\n",
            "11: flutamide, -1.6847783925000002\n",
            "12: tacrolimus, -1.6843737365\n",
            "13: IL1, -1.6791766285\n",
            "14: arofylline, -1.677497685\n",
            "15: mitoxantrone, -1.6701805594999999\n",
            "16: parbendazole, -1.669451356\n",
            "17: 4-NITROPYRENE, -1.6664857865\n",
            "18: quizartinib, -1.666192651\n",
            "19: PF-04217903, -1.6627842780000002\n",
            "20: PD-0325901, -1.6626304783333332\n",
            "21: YM-155, -1.6617856025\n",
            "22: barasertib-HQPA, -1.6613382105\n",
            "23: cimetidine, -1.6588407754999999\n",
            "24: SN-38, -1.657617867\n",
            "25: etodolac, -1.6574946045\n",
            "26: SA-1459830, -1.6546087859999998\n",
            "27: fdcyd, -1.6533697250000001\n",
            "28: SB-218078, -1.65316844\n",
            "29: mevastatin, -1.6529022455\n",
            "30: entinostat, -1.650110880333333\n",
            "31: endo-IWR-1, -1.6484407186666667\n",
            "32: LY-294002, -1.6454443136666665\n",
            "33: panobinostat, -1.6452259420000002\n",
            "34: tranylcypromine, -1.643830895\n",
            "35: C-646, -1.643351853\n",
            "36: salermide, -1.6406460405\n",
            "37: quercetin, -1.6388243836666667\n",
            "38: TW-37, -1.6381407183333332\n",
            "39: lorcaserin, -1.637095511\n",
            "40: coumaric-acid, -1.6364197135\n",
            "41: cytarabine, -1.6363024115\n",
            "42: BMS-777607, -1.633898139\n",
            "43: tivozanib, -1.633624514\n",
            "44: troglitazone, -1.6323317293333333\n",
            "45: vorinostat, -1.6319586433333333\n",
            "46: IFNG, -1.631646216\n",
            "47: tetrindole, -1.631467581\n",
            "48: TNF, -1.6308106185\n",
            "49: ibrutinib, -1.6303138729999997\n",
            "50: nystatin, -1.6292027235\n",
            "51: alisertib, -1.627653122\n",
            "52: levosulpiride, -1.6271128055\n",
            "53: narciclasine, -1.6249551174999999\n",
            "54: penitrem-a, -1.62392956\n",
            "55: AP-26113, -1.6237066384999999\n",
            "56: omecamtiv-mecarbil, -1.622500181\n",
            "57: bortezomib, -1.621941447\n",
            "58: retigabine, -1.6206836105\n",
            "59: oxiracetam, -1.6206110715\n",
            "60: olaparib, -1.6204726693333331\n",
            "61: WZ-7043, -1.6193498970000002\n",
            "62: sulbactam, -1.618692279\n",
            "63: dinaciclib, -1.6186513900000001\n",
            "64: amonafide, -1.6179764275\n",
            "65: canertinib, -1.6176742315000001\n",
            "66: LDN-193189, -1.6172580319999998\n",
            "67: CX-5461, -1.6142957606666666\n",
            "68: simvastatin, -1.6138233343333335\n",
            "69: NU-1025, -1.613078356\n",
            "70: lomeguatrib, -1.61156559\n",
            "71: VER-155008, -1.6115587553333335\n",
            "72: BAY-87-2243, -1.6110299823333334\n",
            "73: wortmannin, -1.6109336616666667\n",
            "74: gefitinib, -1.610804319\n",
            "75: pantoprazole, -1.6107911465\n",
            "76: trimipramine, -1.6106987595\n",
            "77: digitoxin, -1.6099103689999998\n",
            "78: gemcitabine, -1.6093559865\n",
            "79: rociletinib, -1.6077776555\n",
            "80: cabergoline, -1.607610285\n",
            "81: halcinonide, -1.607385933\n",
            "82: itraconazole, -1.606423378\n",
            "83: sonidegib, -1.6061159375\n",
            "84: indoprofen, -1.6055763365\n",
            "85: BTS-54505, -1.605390549\n",
            "86: TL-HRAS-61, -1.6046892006666666\n",
            "87: ZM-336372, -1.6030761\n",
            "88: niclosamide, -1.6030158996666666\n",
            "89: dexamethasone, -1.6022019385\n",
            "90: ecopipam, -1.5996167065\n",
            "91: ARRY-334543, -1.5985345245\n",
            "92: amcinonide, -1.5981605053333334\n",
            "93: centpropazine, -1.597689708\n",
            "94: ziprasidone, -1.596751689666667\n",
            "95: progesterone, -1.5963266489999999\n",
            "96: methylphenidate, -1.59604907\n",
            "97: cabozantinib, -1.5955391525\n",
            "98: MK-2206, -1.5950873296666668\n",
            "99: acivicin, -1.593751073\n",
            "100: WZ-4-145, -1.5936447980000001\n"
          ]
        }
      ]
    },
    {
      "cell_type": "code",
      "source": [
        "def find_compound_ranks(df, list_cols, score_cols, compounds_to_find):\n",
        "    # Identify compounds present in all lists\n",
        "    common_compounds = set(df[list_cols[0]].dropna())\n",
        "    for col in list_cols[1:]:\n",
        "        common_compounds.intersection_update(set(df[col].dropna()))\n",
        "\n",
        "    # Calculate average scores for these compounds\n",
        "    compound_scores = {compound: 0 for compound in common_compounds}\n",
        "    for compound in common_compounds:\n",
        "        total_score = sum(df[df[col] == compound][score].iloc[0] for col, score in zip(list_cols, score_cols) if compound in df[col].values)\n",
        "        compound_scores[compound] = total_score / len(list_cols)\n",
        "\n",
        "    # Sort compounds by average score in ascending order\n",
        "    sorted_compounds = sorted(compound_scores.items(), key=lambda x: x[1], reverse=False)\n",
        "\n",
        "    # Find the ranks of specific compounds\n",
        "    ranks = {}\n",
        "    for compound in compounds_to_find:\n",
        "        for rank, (comp, _) in enumerate(sorted_compounds, start=1):\n",
        "            if comp == compound:\n",
        "                ranks[compound] = rank\n",
        "                break\n",
        "        else:\n",
        "            ranks[compound] = None  # Compound not found\n",
        "\n",
        "    return sorted_compounds, ranks\n",
        "\n",
        "# Example usage\n",
        "list_cols = ['8 weeks', '12 weeks', '16 weeks']\n",
        "score_cols = ['NCS', 'NCS.1', 'NCS.2']\n",
        "compounds_to_find = ['rosiglitazone', 'fluoxetine', 'alisertib', 'tomelukast', 'celastrol', 'pioglitazone', 'TWS-119', 'barasertib', 'clenbuterol', 'withaferin']\n",
        "ranked_compounds, ranks = find_compound_ranks(df, list_cols, score_cols, compounds_to_find)\n",
        "\n",
        "# Display the ranks of specific compounds\n",
        "print(\"Ranks of specific compounds:\")\n",
        "for compound, rank in ranks.items():\n",
        "    print(f\"{compound}: {rank}\")\n"
      ],
      "metadata": {
        "colab": {
          "base_uri": "https://localhost:8080/"
        },
        "id": "aXAyZ78y4fuR",
        "outputId": "a17e6e6c-ad90-4126-f411-9dd6f6d02e02"
      },
      "execution_count": 29,
      "outputs": [
        {
          "output_type": "stream",
          "name": "stdout",
          "text": [
            "Ranks of specific compounds:\n",
            "rosiglitazone: 60\n",
            "fluoxetine: 73\n",
            "alisertib: 14\n",
            "tomelukast: None\n",
            "celastrol: None\n",
            "pioglitazone: None\n",
            "TWS-119: None\n",
            "barasertib: None\n",
            "clenbuterol: None\n",
            "withaferin: None\n"
          ]
        }
      ]
    },
    {
      "cell_type": "markdown",
      "source": [
        "#Jacquard Analysis"
      ],
      "metadata": {
        "id": "swDT7NVC7sik"
      }
    },
    {
      "cell_type": "code",
      "source": [
        "# Function to calculate Jaccard similarity\n",
        "def calculate_jaccard_similarity(series1, series2):\n",
        "    set1 = set(series1.dropna())\n",
        "    set2 = set(series2.dropna())\n",
        "    intersection = set1.intersection(set2)\n",
        "    union = set1.union(set2)\n",
        "    if not union:  # Prevent division by zero\n",
        "        return np.nan\n",
        "    return len(intersection) / len(union)\n",
        "\n"
      ],
      "metadata": {
        "id": "VXViFFmg07pJ"
      },
      "execution_count": null,
      "outputs": []
    },
    {
      "cell_type": "code",
      "source": [
        "\n",
        "\n",
        "# Extract columns\n",
        "col1 = df['8 weeks']\n",
        "col3 = df['12 weeks']\n",
        "col5 = df['16 weeks']\n",
        "\n",
        "# Calculate Jaccard similarities\n",
        "similarity_13 = calculate_jaccard_similarity(col1, col3)\n",
        "similarity_15 = calculate_jaccard_similarity(col1, col5)\n",
        "similarity_35 = calculate_jaccard_similarity(col3, col5)\n",
        "\n",
        "# Print results\n",
        "print(f\"Jaccard Similarity between Week 8 and Week 12: {similarity_13}\")\n",
        "print(f\"Jaccard Similarity between Week 8 and Week 16: {similarity_15}\")\n",
        "print(f\"Jaccard Similarity between Week 12 and Week 16: {similarity_35}\")"
      ],
      "metadata": {
        "colab": {
          "base_uri": "https://localhost:8080/"
        },
        "id": "vxQe8f-d1lnC",
        "outputId": "e0a463e5-2768-4546-8e20-743cb2a3b82c"
      },
      "execution_count": null,
      "outputs": [
        {
          "output_type": "stream",
          "name": "stdout",
          "text": [
            "Jaccard Similarity between Week 8 and Week 12: 0.39485087942900843\n",
            "Jaccard Similarity between Week 8 and Week 16: 0.16097809475292918\n",
            "Jaccard Similarity between Week 12 and Week 16: 0.11102106969205834\n"
          ]
        }
      ]
    },
    {
      "cell_type": "code",
      "source": [],
      "metadata": {
        "id": "OyAmeOIG3FNX"
      },
      "execution_count": null,
      "outputs": []
    },
    {
      "cell_type": "markdown",
      "source": [
        "Attempt at weighted similarity"
      ],
      "metadata": {
        "id": "rTjj7T3F3zaT"
      }
    },
    {
      "cell_type": "code",
      "source": [
        "def custom_similarity(df, col_drug1, col_ncs1, col_drug2, col_ncs2):\n",
        "    # Ensure NCS columns are numeric\n",
        "    df[col_ncs1] = pd.to_numeric(df[col_ncs1], errors='coerce')\n",
        "    df[col_ncs2] = pd.to_numeric(df[col_ncs2], errors='coerce')\n",
        "\n",
        "    # Drop rows where either drug name or NCS is NaN\n",
        "    df = df.dropna(subset=[col_drug1, col_ncs1, col_drug2, col_ncs2])\n",
        "\n",
        "    # Creating dictionaries to pair drugs with their NCS values\n",
        "    drugs_at_time1 = dict(zip(df[col_drug1], df[col_ncs1]))\n",
        "    drugs_at_time2 = dict(zip(df[col_drug2], df[col_ncs2]))\n",
        "\n",
        "    # Identifying common and unique drugs\n",
        "    common_drugs = set(drugs_at_time1.keys()).intersection(set(drugs_at_time2.keys()))\n",
        "    all_drugs = set(drugs_at_time1.keys()).union(set(drugs_at_time2.keys()))\n",
        "\n",
        "    # Calculating weighted intersection and union\n",
        "    intersection = sum(min(drugs_at_time1.get(drug, 0), drugs_at_time2.get(drug, 0)) for drug in all_drugs)\n",
        "    union = sum(max(drugs_at_time1.get(drug, 0), drugs_at_time2.get(drug, 0)) for drug in all_drugs)\n",
        "\n",
        "    # Computing similarity\n",
        "    return intersection / union if union != 0 else 0\n",
        "\n",
        "# Example usage\n",
        "similarity_8_12 = custom_similarity(df, '8 weeks', 'NCS', '12 weeks', 'NCS')\n",
        "similarity_8_16 = custom_similarity(df, '8 weeks', 'NCS', '16 weeks', 'NCS')\n",
        "similarity_12_16 = custom_similarity(df, '12 weeks', 'NCS', '16 weeks', 'NCS')\n",
        "\n",
        "print(f\"Similarity between Week 8 and Week 12: {similarity_8_12}\")\n",
        "print(f\"Similarity between Week 8 and Week 16: {similarity_8_16}\")\n",
        "print(f\"Similarity between Week 12 and Week 16: {similarity_12_16}\")\n",
        "\n"
      ],
      "metadata": {
        "colab": {
          "base_uri": "https://localhost:8080/"
        },
        "id": "TXg_mfKI3le5",
        "outputId": "c167a4e2-7786-4bbf-bcd0-97872e23bda4"
      },
      "execution_count": null,
      "outputs": [
        {
          "output_type": "stream",
          "name": "stdout",
          "text": [
            "Similarity between Week 8 and Week 12: 3.143496349250033\n",
            "Similarity between Week 8 and Week 16: 7.7715833689922\n",
            "Similarity between Week 12 and Week 16: 13.552498471211056\n"
          ]
        }
      ]
    },
    {
      "cell_type": "markdown",
      "source": [
        "Unclear how to interpret these data and also expecting 0-1 range"
      ],
      "metadata": {
        "id": "x91TQkWg4TWc"
      }
    }
  ]
}