{
  "nbformat": 4,
  "nbformat_minor": 0,
  "metadata": {
    "colab": {
      "provenance": [],
      "authorship_tag": "ABX9TyNERoi6V3BkFPl/+vJwM4Lh",
      "include_colab_link": true
    },
    "kernelspec": {
      "name": "python3",
      "display_name": "Python 3"
    },
    "language_info": {
      "name": "python"
    }
  },
  "cells": [
    {
      "cell_type": "markdown",
      "metadata": {
        "id": "view-in-github",
        "colab_type": "text"
      },
      "source": [
        "<a href=\"https://colab.research.google.com/github/EdH66/CMAP-Analysis/blob/main/CMAP_Import_GCT_or_tar_gz.ipynb\" target=\"_parent\"><img src=\"https://colab.research.google.com/assets/colab-badge.svg\" alt=\"Open In Colab\"/></a>"
      ]
    },
    {
      "cell_type": "code",
      "execution_count": 1,
      "metadata": {
        "colab": {
          "base_uri": "https://localhost:8080/"
        },
        "id": "HTWqEYnvKxSZ",
        "outputId": "379dd88a-3bfb-4315-a8f1-6364bf76e51b"
      },
      "outputs": [
        {
          "output_type": "stream",
          "name": "stdout",
          "text": [
            "Mounted at /content/drive\n"
          ]
        }
      ],
      "source": [
        "from google.colab import drive\n",
        "drive.mount('/content/drive')"
      ]
    },
    {
      "cell_type": "markdown",
      "source": [
        "#Import tar.gz file and extract to directory"
      ],
      "metadata": {
        "id": "z_0LX7e4Qxy5"
      }
    },
    {
      "cell_type": "code",
      "source": [
        "import tarfile\n",
        "\n",
        "# Path to your .tar.gz file\n",
        "tar_file_path = '/content/drive/My Drive/Colab Notebooks/CMAP Drug Prediction/diet_query.tar.gz'\n",
        "\n",
        "# Extract the .tar.gz file\n",
        "with tarfile.open(tar_file_path, 'r:gz') as tar:\n",
        "    tar.extractall(path='/content/drive/My Drive/Colab Notebooks/CMAP Drug Prediction/')  # specify your desired extraction path\n"
      ],
      "metadata": {
        "id": "v0d8lQQYLBbJ"
      },
      "execution_count": 10,
      "outputs": []
    },
    {
      "cell_type": "code",
      "source": [
        "!pip install genoml"
      ],
      "metadata": {
        "id": "chWbbql7XpZp"
      },
      "execution_count": null,
      "outputs": []
    },
    {
      "cell_type": "code",
      "source": [
        "from genoml import genoml\n",
        "\n",
        "# Replace this with the path to your .gtc file\n",
        "gtc_file_path = ''/content/drive/My Drive/Colab Notebooks/CMAP Drug Prediction/.gtc'\n",
        "\n",
        "# Read the .gtc file\n",
        "# Note: You'll need to refer to genoml's documentation for the exact method to read .gtc files\n",
        "# as it might require additional files or specific functions.\n",
        "genotyping_data = genoml.read_gtc(gtc_file_path)\n",
        "\n",
        "# Convert the data to a DataFrame\n",
        "# This step depends on how genoml returns the data from the .gtc file\n",
        "import pandas as pd\n",
        "df = pd.DataFrame(genotyping_data)\n",
        "\n",
        "# Save the DataFrame to CSV\n",
        "df.to_csv('output_file.csv', index=False)\n",
        "\n",
        "# Save the DataFrame to Excel\n",
        "df.to_excel('output_file.xlsx', index=False)\n"
      ],
      "metadata": {
        "colab": {
          "base_uri": "https://localhost:8080/",
          "height": 383
        },
        "id": "9pxjGTZRXjE5",
        "outputId": "589a3a77-ce68-49af-a8bd-ea280913f467"
      },
      "execution_count": 15,
      "outputs": [
        {
          "output_type": "error",
          "ename": "ImportError",
          "evalue": "cannot import name 'genoml' from 'genoml' (/usr/local/lib/python3.10/dist-packages/genoml/__init__.py)",
          "traceback": [
            "\u001b[0;31m---------------------------------------------------------------------------\u001b[0m",
            "\u001b[0;31mImportError\u001b[0m                               Traceback (most recent call last)",
            "\u001b[0;32m<ipython-input-15-f8a3df558ab1>\u001b[0m in \u001b[0;36m<cell line: 1>\u001b[0;34m()\u001b[0m\n\u001b[0;32m----> 1\u001b[0;31m \u001b[0;32mfrom\u001b[0m \u001b[0mgenoml\u001b[0m \u001b[0;32mimport\u001b[0m \u001b[0mgenoml\u001b[0m\u001b[0;34m\u001b[0m\u001b[0;34m\u001b[0m\u001b[0m\n\u001b[0m\u001b[1;32m      2\u001b[0m \u001b[0;34m\u001b[0m\u001b[0m\n\u001b[1;32m      3\u001b[0m \u001b[0;31m# Replace this with the path to your .gtc file\u001b[0m\u001b[0;34m\u001b[0m\u001b[0;34m\u001b[0m\u001b[0m\n\u001b[1;32m      4\u001b[0m \u001b[0mgtc_file_path\u001b[0m \u001b[0;34m=\u001b[0m \u001b[0;34m'path_to_your_gtc_file.gtc'\u001b[0m\u001b[0;34m\u001b[0m\u001b[0;34m\u001b[0m\u001b[0m\n\u001b[1;32m      5\u001b[0m \u001b[0;34m\u001b[0m\u001b[0m\n",
            "\u001b[0;31mImportError\u001b[0m: cannot import name 'genoml' from 'genoml' (/usr/local/lib/python3.10/dist-packages/genoml/__init__.py)",
            "",
            "\u001b[0;31m---------------------------------------------------------------------------\u001b[0;32m\nNOTE: If your import is failing due to a missing package, you can\nmanually install dependencies using either !pip or !apt.\n\nTo view examples of installing some common dependencies, click the\n\"Open Examples\" button below.\n\u001b[0;31m---------------------------------------------------------------------------\u001b[0m\n"
          ],
          "errorDetails": {
            "actions": [
              {
                "action": "open_url",
                "actionText": "Open Examples",
                "url": "/notebooks/snippets/importing_libraries.ipynb"
              }
            ]
          }
        }
      ]
    }
  ]
}